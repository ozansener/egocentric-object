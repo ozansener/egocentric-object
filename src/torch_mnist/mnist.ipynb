{
 "cells": [
  {
   "cell_type": "markdown",
   "metadata": {},
   "source": [
    "This notebook is about training the vanilla CNN on MNIST"
   ]
  },
  {
   "cell_type": "code",
   "execution_count": 1,
   "metadata": {
    "collapsed": false,
    "scrolled": true
   },
   "outputs": [],
   "source": [
    "require 'torch'\n",
    "require 'nn'\n",
    "require 'nnx'\n",
    "require 'optim'\n",
    "require 'image'\n",
    "require 'dataset-mnist' --This is a file which simply donwloads the data TODO: modify it for artificial one\n",
    "require 'pl'\n",
    "require 'paths'"
   ]
  },
  {
   "cell_type": "markdown",
   "metadata": {},
   "source": [
    "We will fix seed for debugging"
   ]
  },
  {
   "cell_type": "code",
   "execution_count": 2,
   "metadata": {
    "collapsed": false
   },
   "outputs": [
    {
     "data": {
      "text/plain": [
       "\n"
      ]
     },
     "execution_count": 2,
     "metadata": {},
     "output_type": "execute_result"
    }
   ],
   "source": [
    "torch.manualSeed(1234)"
   ]
  },
  {
   "cell_type": "markdown",
   "metadata": {},
   "source": [
    "We will set the number of threads, this is mostly required for CPU debugging. I have no GPUs on my laptop. We will also set the type to float since we are using SGD during training"
   ]
  },
  {
   "cell_type": "code",
   "execution_count": 15,
   "metadata": {
    "collapsed": false
   },
   "outputs": [],
   "source": [
    "torch.setnumthreads(4)\n",
    "torch.setdefaulttensortype('torch.FloatTensor')\n",
    "opt = {}\n",
    "opt.plot = true\n",
    "opt.batchSize = 10"
   ]
  },
  {
   "cell_type": "markdown",
   "metadata": {},
   "source": [
    "Here, we define the basic architecture"
   ]
  },
  {
   "cell_type": "code",
   "execution_count": 4,
   "metadata": {
    "collapsed": false
   },
   "outputs": [
    {
     "data": {
      "text/plain": [
       "nn.Sequential {\n",
       "  [input -> (1) -> (2) -> (3) -> (4) -> (5) -> (6) -> (7) -> (8) -> (9) -> (10) -> output]\n",
       "  (1): nn.SpatialConvolutionMM(1 -> 32, 5x5)\n",
       "  (2): nn.Tanh\n",
       "  (3): nn.SpatialMaxPooling(3,3,3,3)\n",
       "  (4): nn.SpatialConvolutionMM(32 -> 64, 5x5)\n",
       "  (5): nn.Tanh\n",
       "  (6): nn.SpatialMaxPooling(2,2,2,2)\n",
       "  (7): nn.Reshape(256)\n",
       "  (8): nn.Linear(256 -> 200)\n",
       "  (9): nn.Tanh\n",
       "  (10): nn.Linear(200 -> 10)\n",
       "}\t\n"
      ]
     },
     "execution_count": 4,
     "metadata": {},
     "output_type": "execute_result"
    }
   ],
   "source": [
    "classes = {'1','2','3','4','5','6','7','8','9','10'}\n",
    "geometry = {32,32}\n",
    "model = nn.Sequential()\n",
    "-- stage 1 : mean suppresion -> filter bank -> squashing -> max pooling\n",
    "model:add(nn.SpatialConvolutionMM(1, 32, 5, 5)) -- now it is 28x28x32\n",
    "model:add(nn.Tanh())\n",
    "model:add(nn.SpatialMaxPooling(3, 3, 3, 3)) -- now it is 8x8x32\n",
    "\n",
    "-- stage 2 : mean suppresion -> filter bank -> squashing -> max pooling\n",
    "model:add(nn.SpatialConvolutionMM(32, 64, 5, 5)) -- now it is 4x4x64\n",
    "model:add(nn.Tanh())\n",
    "model:add(nn.SpatialMaxPooling(2, 2, 2, 2)) -- now it is 2x2x64\n",
    "-- stage 3 : standard 2-layer MLP:\n",
    "model:add(nn.Reshape(64*2*2))\n",
    "model:add(nn.Linear(64*2*2, 200))\n",
    "model:add(nn.Tanh())\n",
    "model:add(nn.Linear(200, #classes))\n",
    "print(tostring(model))"
   ]
  },
  {
   "cell_type": "markdown",
   "metadata": {},
   "source": [
    "Add the loss function at the end"
   ]
  },
  {
   "cell_type": "code",
   "execution_count": 5,
   "metadata": {
    "collapsed": true
   },
   "outputs": [],
   "source": [
    "parameters,gradParameters = model:getParameters()\n",
    "model:add(nn.LogSoftMax())\n",
    "criterion = nn.ClassNLLCriterion()"
   ]
  },
  {
   "cell_type": "markdown",
   "metadata": {},
   "source": [
    "We get the dataset"
   ]
  },
  {
   "cell_type": "code",
   "execution_count": 6,
   "metadata": {
    "collapsed": false
   },
   "outputs": [
    {
     "data": {
      "text/plain": [
       "<warning> only using 2000 samples to train quickly (modify use_fil to use 60000 samples)\t\n"
      ]
     },
     "execution_count": 6,
     "metadata": {},
     "output_type": "execute_result"
    },
    {
     "data": {
      "text/plain": [
       "<mnist> loading only 2000 examples\t\n",
       "<mnist> done\t\n"
      ]
     },
     "execution_count": 6,
     "metadata": {},
     "output_type": "execute_result"
    },
    {
     "data": {
      "text/plain": [
       "<mnist> loading only 1000 examples\t\n",
       "<mnist> done\t\n"
      ]
     },
     "execution_count": 6,
     "metadata": {},
     "output_type": "execute_result"
    }
   ],
   "source": [
    "use_full = false\n",
    "if use_full then\n",
    "   nbTrainingPatches = 60000\n",
    "   nbTestingPatches = 10000\n",
    "else\n",
    "   nbTrainingPatches = 2000\n",
    "   nbTestingPatches = 1000\n",
    "   print('<warning> only using 2000 samples to train quickly (modify use_fil to use 60000 samples)')\n",
    "end\n",
    "\n",
    "trainData = mnist.loadTrainSet(nbTrainingPatches, geometry)\n",
    "trainData:normalizeGlobal(mean, std)\n",
    "\n",
    "testData = mnist.loadTestSet(nbTestingPatches, geometry)\n",
    "testData:normalizeGlobal(mean, std)"
   ]
  },
  {
   "cell_type": "code",
   "execution_count": 7,
   "metadata": {
    "collapsed": false
   },
   "outputs": [
    {
     "data": {
      "text/plain": [
       " 6\n",
       "[torch.LongTensor of size 1]\n",
       "\n",
       " 6\n",
       "[torch.LongTensor of size 1]\n",
       "\n"
      ]
     },
     "execution_count": 7,
     "metadata": {},
     "output_type": "execute_result"
    }
   ],
   "source": [
    "_,t = trainData[1][2]:clone():max(1)\n",
    "print(t)\n",
    "t:squeeze()\n",
    "print(t)"
   ]
  },
  {
   "cell_type": "code",
   "execution_count": 9,
   "metadata": {
    "collapsed": false
   },
   "outputs": [],
   "source": [
    "-- this matrix records the current confusion across classes\n",
    "confusion = optim.ConfusionMatrix(classes)\n",
    "\n",
    "-- log results to files\n",
    "trainLogger = optim.Logger(paths.concat(\"logs\", 'train.log'))\n",
    "testLogger = optim.Logger(paths.concat(\"logs\", 'test.log'))\n"
   ]
  },
  {
   "cell_type": "code",
   "execution_count": 17,
   "metadata": {
    "collapsed": false
   },
   "outputs": [],
   "source": [
    "-- training function\n",
    "function train(dataset)\n",
    "   -- epoch tracker\n",
    "   epoch = epoch or 1\n",
    "\n",
    "   -- local vars\n",
    "   local time = sys.clock()\n",
    "\n",
    "   -- do one epoch\n",
    "   print('<trainer> on training set:')\n",
    "   print(\"<trainer> online epoch # \" .. epoch .. ' [batchSize = ' .. 10 .. ']')\n",
    "   for t = 1,dataset:size(),opt.batchSize do\n",
    "      -- create mini batch\n",
    "      local inputs = torch.Tensor(opt.batchSize,1,geometry[1],geometry[2])\n",
    "      local targets = torch.Tensor(opt.batchSize)\n",
    "      local k = 1\n",
    "      for i = t,math.min(t+opt.batchSize-1,dataset:size()) do\n",
    "         -- load new sample\n",
    "         local sample = dataset[i]\n",
    "         local input = sample[1]:clone()\n",
    "         local _,target = sample[2]:clone():max(1)\n",
    "         target = target:squeeze()\n",
    "         inputs[k] = input\n",
    "         targets[k] = target\n",
    "         k = k + 1\n",
    "      end\n",
    "\n",
    "      -- create closure to evaluate f(X) and df/dX\n",
    "      local feval = function(x)\n",
    "         -- just in case:\n",
    "         collectgarbage()\n",
    "\n",
    "         -- get new parameters\n",
    "         if x ~= parameters then\n",
    "            parameters:copy(x)\n",
    "         end\n",
    "\n",
    "         -- reset gradients\n",
    "         gradParameters:zero()\n",
    "\n",
    "         -- evaluate function for complete mini batch\n",
    "         local outputs = model:forward(inputs)\n",
    "         local f = criterion:forward(outputs, targets)\n",
    "\n",
    "         -- estimate df/dW\n",
    "         local df_do = criterion:backward(outputs, targets)\n",
    "         model:backward(inputs, df_do)\n",
    "\n",
    "         -- update confusion\n",
    "         for i = 1,opt.batchSize do\n",
    "            confusion:add(outputs[i], targets[i])\n",
    "         end\n",
    "\n",
    "         -- return f and df/dX\n",
    "         return f,gradParameters\n",
    "      end\n",
    "\n",
    "    \n",
    "      -- Perform SGD step:\n",
    "      sgdState = sgdState or {\n",
    "          learningRate = 0.05,\n",
    "          momentum = 0,\n",
    "          learningRateDecay = 5e-7\n",
    "      }\n",
    "      optim.sgd(feval, parameters, sgdState)\n",
    "      \n",
    "      -- disp progress\n",
    "      xlua.progress(t, dataset:size())\n",
    "   end\n",
    "   \n",
    "   -- time taken\n",
    "   time = sys.clock() - time\n",
    "   time = time / dataset:size()\n",
    "   print(\"<trainer> time to learn 1 sample = \" .. (time*1000) .. 'ms')\n",
    "\n",
    "   -- print confusion matrix\n",
    "   print(confusion)\n",
    "   trainLogger:add{['% mean class accuracy (train set)'] = confusion.totalValid * 100}\n",
    "   confusion:zero()\n",
    "\n",
    "   -- save/log current net\n",
    "   local filename = paths.concat(\"logs\", 'mnist.net')\n",
    "   os.execute('mkdir -p ' .. sys.dirname(filename))\n",
    "   if paths.filep(filename) then\n",
    "      os.execute('mv ' .. filename .. ' ' .. filename .. '.old')\n",
    "   end\n",
    "   print('<trainer> saving network to '..filename)\n",
    "   -- torch.save(filename, model)\n",
    "\n",
    "   -- next epoch\n",
    "   epoch = epoch + 1\n",
    "end"
   ]
  },
  {
   "cell_type": "code",
   "execution_count": 14,
   "metadata": {
    "collapsed": false
   },
   "outputs": [],
   "source": [
    "-- test function\n",
    "function test(dataset)\n",
    "   -- local vars\n",
    "   local time = sys.clock()\n",
    "\n",
    "   -- test over given dataset\n",
    "   print('<trainer> on testing Set:')\n",
    "   for t = 1,dataset:size(),opt.batchSize do\n",
    "      -- disp progress\n",
    "      xlua.progress(t, dataset:size())\n",
    "\n",
    "      -- create mini batch\n",
    "      local inputs = torch.Tensor(opt.batchSize,1,geometry[1],geometry[2])\n",
    "      local targets = torch.Tensor(opt.batchSize)\n",
    "      local k = 1\n",
    "      for i = t,math.min(t+opt.batchSize-1,dataset:size()) do\n",
    "         -- load new sample\n",
    "         local sample = dataset[i]\n",
    "         local input = sample[1]:clone()\n",
    "         local _,target = sample[2]:clone():max(1)\n",
    "         target = target:squeeze()\n",
    "         inputs[k] = input\n",
    "         targets[k] = target\n",
    "         k = k + 1\n",
    "      end\n",
    "\n",
    "      -- test samples\n",
    "      local preds = model:forward(inputs)\n",
    "\n",
    "      -- confusion:\n",
    "      for i = 1,opt.batchSize do\n",
    "         confusion:add(preds[i], targets[i])\n",
    "      end\n",
    "   end\n",
    "\n",
    "   -- timing\n",
    "   time = sys.clock() - time\n",
    "   time = time / dataset:size()\n",
    "   print(\"<trainer> time to test 1 sample = \" .. (time*1000) .. 'ms')\n",
    "\n",
    "   -- print confusion matrix\n",
    "   print(confusion)\n",
    "   testLogger:add{['% mean class accuracy (test set)'] = confusion.totalValid * 100}\n",
    "   confusion:zero()\n",
    "end\n"
   ]
  },
  {
   "cell_type": "code",
   "execution_count": null,
   "metadata": {
    "collapsed": false
   },
   "outputs": [
    {
     "data": {
      "text/plain": [
       "<trainer> on training set:\t\n",
       "<trainer> online epoch # 1 [batchSize = 10]\t\n"
      ]
     },
     "execution_count": 18,
     "metadata": {},
     "output_type": "execute_result"
    },
    {
     "data": {
      "text/plain": [
       "Progress: 1691 / 2000\t\n"
      ]
     },
     "execution_count": 18,
     "metadata": {},
     "output_type": "execute_result"
    },
    {
     "data": {
      "text/plain": [
       "<trainer> time to learn 1 sample = 3.4450534582138ms\t\n"
      ]
     },
     "execution_count": 18,
     "metadata": {},
     "output_type": "execute_result"
    },
    {
     "data": {
      "text/plain": [
       "ConfusionMatrix:\n",
       "[[     185       0       0       0       0       1       2       1       2       0]   96.859% \t[class: 1]\n",
       " [       0     213       1       3       1       0       0       2       0       0]   96.818% \t[class: 2]\n",
       " [       1       2     176       5       4       1       0       4       5       0]   88.889% \t[class: 3]\n",
       " [       0       0       2     176       0       6       0       3       2       2]   92.147% \t[class: 4]\n",
       " [       0       2       1       0     195       0       7       2       0       7]   91.121% \t[class: 5]\n",
       " [       0       1       2       3       4     165       3       0       1       1]   91.667% \t[class: 6]\n",
       " [       2       1       2       0       0       2     191       0       2       0]   95.500% \t[class: 7]\n",
       " [       0       1       6       0       4       0       0     202       0      11]   90.179% \t[class: 8]\n",
       " [       0       1       3       1       1       5       2       1     154       4]   89.535% \t[class: 9]\n",
       " [       3       0       1       3       2       3       0       9       4     185]]  88.095% \t[class: 10]\n",
       " + average row correct: 92.080916166306% \n",
       " + average rowUcol correct (VOC measure): 85.436845421791% \n",
       " + global correct: 92.1%\n",
       "{\n",
       "  valids : FloatTensor - size: 10\n",
       "  mat : LongTensor - size: 10x10\n",
       "  averageUnionValid : 0.85436845421791\n",
       "  _targ_idx : LongTensor - empty\n",
       "  averageValid : 0.92080916166306\n",
       "  classes : \n",
       "    {\n"
      ]
     },
     "execution_count": 18,
     "metadata": {},
     "output_type": "execute_result"
    },
    {
     "data": {
      "text/plain": [
       "      1 : 1\n",
       "      2 : 2\n",
       "      3 : 3\n",
       "      4 : 4\n",
       "      "
      ]
     },
     "execution_count": 18,
     "metadata": {},
     "output_type": "execute_result"
    },
    {
     "data": {
      "text/plain": [
       "5 : 5\n",
       "      6 : 6\n",
       "      7 : 7\n",
       "      8 : 8\n",
       "      9 : 9\n",
       "      10 : 10\n",
       "    }\n",
       "  _prediction : FloatTensor - size: 10\n",
       "  _pred_idx : LongTensor - size: 1\n",
       "  nclasses : 10\n"
      ]
     },
     "execution_count": 18,
     "metadata": {},
     "output_type": "execute_result"
    },
    {
     "data": {
      "text/plain": [
       "  _max : FloatTensor - size: 1\n",
       "  _target : FloatTensor - empty\n",
       "  unionvalids : FloatTensor - size: 10\n",
       "  totalValid : 0.921\n",
       "}\n"
      ]
     },
     "execution_count": 18,
     "metadata": {},
     "output_type": "execute_result"
    },
    {
     "data": {
      "text/plain": [
       "<trainer> saving network to /home/ozan/egocentric-object/src/torch_mnist/logs/mnist.net\t\n",
       "<trainer> on testing Set:\t\n"
      ]
     },
     "execution_count": 18,
     "metadata": {},
     "output_type": "execute_result"
    },
    {
     "data": {
      "text/plain": [
       "<trainer> time to test 1 sample = 1.626119852066ms\t\n"
      ]
     },
     "execution_count": 18,
     "metadata": {},
     "output_type": "execute_result"
    },
    {
     "data": {
      "text/plain": [
       "ConfusionMatrix:\n",
       "[[      83       0       0       0       0       1       0       0       1       0]   97.647% \t[class: 1]\n",
       " [       0     124       0       0       0       0       1       0       1       0]   98.413% \t[class: 2]\n",
       " [       2       0     108       0       0       0       3       3       0       0]   93.103% \t[class: 3]\n",
       " [       0       0       4      94       0       6       0       1       2       0]   87.850% \t[class: 4]\n",
       " [       0       1       0       0      99       0       3       0       0       7]   90.000% \t[class: 5]\n",
       " [       0       0       0       3       0      78       4       0       1       1]   89.655% \t[class: 6]\n",
       " [       3       0       0       0       1       0      83       0       0       0]   95.402% \t[class: 7]\n",
       " [       0       0      10       0       0       0       0      87       0       2]   87.879% \t[class: 8]\n",
       " [       0       0       3       3       1       1       0       3      77       1]   86.517% \t[class: 9]\n",
       " [       0       0       0       3       1       0       0       3       2      85]]  90.426% \t[class: 10]\n",
       " + average row correct: 91.689231991768% \n",
       " + average rowUcol correct (VOC measure): 84.748449325562% \n",
       " + global correct: 91.8%\n",
       "{\n",
       "  valids : FloatTensor - size: 10\n",
       "  mat : LongTensor - size: 10x10\n",
       "  averageUnionValid : 0.84748449325562\n",
       "  _targ_idx : LongTensor - empty\n",
       "  averageValid : 0.91689231991768\n",
       "  classes : \n",
       "    {\n",
       "      1 : 1\n",
       "      2 : 2\n",
       "      3 : 3\n",
       "      4 : 4\n",
       "      5 : 5\n",
       "      6 : 6\n",
       "      7 : 7\n",
       "      8 : 8\n",
       "      9 : 9\n",
       "      10 : 10\n",
       "    }\n",
       "  _prediction : FloatTensor - size: 10\n",
       "  _pred_idx : LongTensor - size: 1\n",
       "  nclasses : 10\n",
       "  _max : FloatTensor - size: 1\n",
       "  _target : FloatTensor - empty\n",
       "  unionvalids : FloatTensor - size: 10\n",
       "  totalValid : 0.918\n",
       "}\n"
      ]
     },
     "execution_count": 18,
     "metadata": {},
     "output_type": "execute_result"
    },
    {
     "data": {
      "text/plain": [
       "<trainer> on training set:\t\n",
       "<trainer> online epoch # 2 [batchSize = 10]\t\n"
      ]
     },
     "execution_count": 18,
     "metadata": {},
     "output_type": "execute_result"
    },
    {
     "data": {
      "text/plain": [
       "Progress: 201 / 2000\t\n"
      ]
     },
     "execution_count": 18,
     "metadata": {},
     "output_type": "execute_result"
    },
    {
     "data": {
      "text/plain": [
       "Progress: 1171 / 2000\t\n"
      ]
     },
     "execution_count": 18,
     "metadata": {},
     "output_type": "execute_result"
    },
    {
     "data": {
      "text/plain": [
       "<trainer> time to learn 1 sample = 4.6094545125961ms\t\n"
      ]
     },
     "execution_count": 18,
     "metadata": {},
     "output_type": "execute_result"
    },
    {
     "data": {
      "text/plain": [
       "ConfusionMatrix:\n",
       "[[     188       0       0       0       0       1       1       1       0       0]   98.429% \t[class: 1]\n",
       " [       0     214       1       2       1       0       0       1       1       0]   97.273% \t[class: 2]\n",
       " [       0       0     191       2       1       1       0       2       1       0]   96.465% \t[class: 3]\n",
       " [       0       0       1     182       0       4       0       1       2       1]   95.288% \t[class: 4]\n",
       " [       0       2       0       0     202       0       4       1       0       5]   94.393% \t[class: 5]\n",
       " [       0       1       1       2       2     172       1       0       0       1]   95.556% \t[class: 6]\n",
       " [       2       0       0       0       0       2     195       0       1       0]   97.500% \t[class: 7]\n",
       " [       0       1       2       0       3       0       0     212       0       6]   94.643% \t[class: 8]\n",
       " [       0       0       3       1       0       1       1       1     163       2]   94.767% \t[class: 9]\n",
       " [       3       0       0       2       2       1       0       4       1     197]]  93.810% \t[class: 10]\n",
       " + average row correct: 95.812256336212% \n",
       " + average rowUcol correct (VOC measure): 91.982607245445% \n",
       " + global correct: 95.8%\n",
       "{\n",
       "  valids : FloatTensor - size: 10\n",
       "  mat : LongTensor - size: 10x10\n",
       "  averageUnionValid : 0.91982607245445\n",
       "  _targ_idx : LongTensor - empty\n",
       "  averageValid : 0.95812256336212\n",
       "  classes : \n",
       "    {\n",
       "      1 : 1\n",
       "      2 : 2\n",
       "      3 : 3\n",
       "      4 : 4\n",
       "      5 : 5\n",
       "      6 : 6\n",
       "      7 : 7\n",
       "      8 : 8\n",
       "      9 : 9\n",
       "      10 : 10\n",
       "    }\n",
       "  _prediction : FloatTensor - size: 10\n",
       "  _pred_idx : LongTensor - size: 1\n",
       "  nclasses : 10\n",
       "  _max : FloatTensor - size: 1\n",
       "  _target : FloatTensor - empty\n",
       "  unionvalids : FloatTensor - size: 10\n",
       "  totalValid : 0.958\n",
       "}\n"
      ]
     },
     "execution_count": 18,
     "metadata": {},
     "output_type": "execute_result"
    },
    {
     "data": {
      "text/plain": [
       "<trainer> saving network to /home/ozan/egocentric-object/src/torch_mnist/logs/mnist.net\t\n",
       "<trainer> on testing Set:\t\n"
      ]
     },
     "execution_count": 18,
     "metadata": {},
     "output_type": "execute_result"
    },
    {
     "data": {
      "text/plain": [
       "Progress: 321 / 1000\t\n"
      ]
     },
     "execution_count": 18,
     "metadata": {},
     "output_type": "execute_result"
    },
    {
     "data": {
      "text/plain": [
       "<trainer> time to test 1 sample = 0.67879509925842ms\t\n",
       "ConfusionMatrix:\n",
       "[[      83       0       0       0       0       1       1       0       0       0]   97.647% \t[class: 1]\n",
       " [       0     124       0       0       0       0       1       0       1       0]   98.413% \t[class: 2]\n",
       " [       2       0     108       0       0       0       3       3       0       0]   93.103% \t[class: 3]\n",
       " [       0       0       4      99       0       3       0       1       0       0]   92.523% \t[class: 4]\n",
       " [       0       1       0       0      99       0       3       0       0       7]   90.000% \t[class: 5]\n",
       " [       0       0       0       4       0      77       4       0       2       0]   88.506% \t[class: 6]\n",
       " [       3       0       0       0       1       0      83       0       0       0]   95.402% \t[class: 7]\n",
       " [       0       0      10       0       0       0       0      86       0       3]   86.869% \t[class: 8]\n",
       " [       0       0       3       4       1       0       0       1      79       1]   88.764% \t[class: 9]\n",
       " [       0       0       0       3       0       0       0       2       1      88]]  93.617% \t[class: 10]\n",
       " + average row correct: 92.484437227249% \n",
       " + average rowUcol correct (VOC measure): 86.169580221176% \n",
       " + global correct: 92.6%\n",
       "{\n",
       "  valids : FloatTensor - size: 10\n",
       "  mat : LongTensor - size: 10x10\n",
       "  averageUnionValid : 0.86169580221176\n",
       "  _targ_idx : LongTensor - empty\n",
       "  averageValid : 0.92484437227249\n",
       "  classes : \n",
       "    {\n",
       "      1 : 1\n",
       "      2 : 2\n",
       "      3 : 3\n",
       "      4 : 4\n",
       "      5 : 5\n",
       "      6 : 6\n",
       "      7 : 7\n",
       "      8 : 8\n",
       "      9 : 9\n",
       "      10 : 10\n",
       "    }\n",
       "  _prediction : FloatTensor - size: 10\n",
       "  _pred_idx : LongTensor - size: 1\n",
       "  nclasses : 10\n",
       "  _max : FloatTensor - size: 1\n",
       "  _target : FloatTensor - empty\n",
       "  unionvalids : FloatTensor - size: 10\n",
       "  totalValid : 0.926\n",
       "}\n"
      ]
     },
     "execution_count": 18,
     "metadata": {},
     "output_type": "execute_result"
    },
    {
     "data": {
      "text/plain": [
       "<trainer> on training set:\t\n",
       "<trainer> online epoch # 3 [batchSize = 10]\t\n"
      ]
     },
     "execution_count": 18,
     "metadata": {},
     "output_type": "execute_result"
    },
    {
     "data": {
      "text/plain": [
       "Progress: 1031 / 2000\t\n"
      ]
     },
     "execution_count": 18,
     "metadata": {},
     "output_type": "execute_result"
    },
    {
     "data": {
      "text/plain": [
       "Progress: 1731 / 2000\t\n"
      ]
     },
     "execution_count": 18,
     "metadata": {},
     "output_type": "execute_result"
    },
    {
     "data": {
      "text/plain": [
       "<trainer> time to learn 1 sample = 4.801195025444ms\t\n"
      ]
     },
     "execution_count": 18,
     "metadata": {},
     "output_type": "execute_result"
    },
    {
     "data": {
      "text/plain": [
       "ConfusionMatrix:\n",
       "[[     190       0       0       0       0       0       1       0       0       0]   99.476% \t[class: 1]\n",
       " [       0     215       1       2       0       0       0       1       1       0]   97.727% \t[class: 2]\n",
       " [       1       0     195       0       0       0       0       1       1       0]   98.485% \t[class: 3]\n",
       " [       0       0       1     186       0       2       0       1       0       1]   97.382% \t[class: 4]\n",
       " [       0       1       0       0     206       0       2       0       0       5]   96.262% \t[class: 5]\n",
       " [       0       1       1       1       1     175       1       0       0       0]   97.222% \t[class: 6]\n",
       " [       1       0       0       0       0       1     198       0       0       0]   99.000% \t[class: 7]\n",
       " [       0       0       1       0       1       0       0     219       0       3]   97.768% \t[class: 8]\n",
       " [       0       0       1       2       0       0       0       0     167       2]   97.093% \t[class: 9]\n",
       " [       3       0       0       2       0       0       0       3       1     201]]  95.714% \t[class: 10]\n",
       " + average row correct: 97.612982988358% \n",
       " + average rowUcol correct (VOC measure): 95.343793034554% \n",
       " + global correct: 97.6%\n",
       "{\n",
       "  valids : FloatTensor - size: 10\n",
       "  mat : LongTensor - size: 10x10\n",
       "  averageUnionValid : 0.95343793034554\n",
       "  _targ_idx : LongTensor - empty\n",
       "  averageValid : 0.97612982988358\n",
       "  classes : \n",
       "    {\n",
       "      1 : 1\n"
      ]
     },
     "execution_count": 18,
     "metadata": {},
     "output_type": "execute_result"
    },
    {
     "data": {
      "text/plain": [
       "      2 : 2\n",
       "      3 : 3\n",
       "      4 : 4\n",
       "      5 : 5\n",
       "      6 : 6\n",
       "  "
      ]
     },
     "execution_count": 18,
     "metadata": {},
     "output_type": "execute_result"
    },
    {
     "data": {
      "text/plain": [
       "    7 : 7\n",
       "      8 : 8\n",
       "      9 : 9\n",
       "      10 : 10\n",
       "    }\n",
       "  _prediction : FloatTensor - size: 10\n",
       "  _pred_idx : LongTensor - size: 1\n",
       "  nclasses : 10\n",
       "  _max : FloatTensor - size: 1\n",
       "  _target : FloatTensor - empty\n",
       "  unionvalids : FloatTensor - size: 10\n",
       "  totalValid : 0.976\n",
       "}\n"
      ]
     },
     "execution_count": 18,
     "metadata": {},
     "output_type": "execute_result"
    },
    {
     "data": {
      "text/plain": [
       "<trainer> saving network to /home/ozan/egocentric-object/src/torch_mnist/logs/mnist.net\t\n",
       "<trainer> on testing Set:\t\n"
      ]
     },
     "execution_count": 18,
     "metadata": {},
     "output_type": "execute_result"
    },
    {
     "data": {
      "text/plain": [
       "<trainer> time to test 1 sample = 2.1451001167297ms\t\n"
      ]
     },
     "execution_count": 18,
     "metadata": {},
     "output_type": "execute_result"
    },
    {
     "data": {
      "text/plain": [
       "ConfusionMatrix:\n",
       "[[      83       0       0       0       0       1       1       0       0       0]   97.647% \t[class: 1]\n",
       " [       0     124       0       0       0       0       1       0       1       0]   98.413% \t[class: 2]\n",
       " [       2       0     111       0       0       0       2       1       0       0]   95.690% \t[class: 3]\n",
       " [       0       0       3     100       0       3       0       1       0       0]   93.458% \t[class: 4]\n",
       " [       0       1       0       0      98       0       3       0       0       8]   89.091% \t[class: 5]\n",
       " [       0       0       0       3       0      79       3       0       2       0]   90.805% \t[class: 6]\n",
       " [       3       0       0       0       1       0      83       0       0       0]   95.402% \t[class: 7]\n",
       " [       0       0       7       2       0       0       0      87       0       3]   87.879% \t[class: 8]\n",
       " [       0       0       3       4       0       0       0       0      82       0]   92.135% \t[class: 9]\n",
       " [       0       0       0       3       0       0       0       1       1      89]]  94.681% \t[class: 10]\n",
       " + average row correct: 93.519963026047% \n",
       " + average rowUcol correct (VOC measure): 87.883669137955% \n",
       " + global correct: 93.6%\n",
       "{\n",
       "  valids : FloatTensor - size: 10\n",
       "  mat : LongTensor - size: 10x10\n",
       "  averageUnionValid : 0.87883669137955\n",
       "  _targ_idx : LongTensor - empty\n",
       "  averageValid : 0.93519963026047\n",
       "  classes : \n",
       "    {\n",
       "      1 : 1\n",
       "      2 : 2\n",
       "      3 : 3\n",
       "      4 : 4\n",
       "      5 : 5\n",
       "      6 : 6\n",
       "      7 : 7\n",
       "      8 : 8\n",
       "      9 : 9\n",
       "      10 : 10\n",
       "    }\n",
       "  _prediction : FloatTensor - size: 10\n",
       "  _pred_idx : LongTensor - size: 1\n",
       "  nclasses : 10\n",
       "  _max : FloatTensor - size: 1\n",
       "  _target : FloatTensor - empty\n",
       "  unionvalids : FloatTensor - size: 10\n",
       "  totalValid : 0.936\n",
       "}\n"
      ]
     },
     "execution_count": 18,
     "metadata": {},
     "output_type": "execute_result"
    },
    {
     "data": {
      "text/plain": [
       "<trainer> on training set:\t\n",
       "<trainer> online epoch # 4 [batchSize = 10]\t\n"
      ]
     },
     "execution_count": 18,
     "metadata": {},
     "output_type": "execute_result"
    },
    {
     "data": {
      "text/plain": [
       "Progress: 311 / 2000\t\n"
      ]
     },
     "execution_count": 18,
     "metadata": {},
     "output_type": "execute_result"
    },
    {
     "data": {
      "text/plain": [
       "<trainer> time to learn 1 sample = 1.3136239051819ms\t\n",
       "ConfusionMatrix:\n",
       "[[     190       0       0       0       0       0       1       0       0       0]   99.476% \t[class: 1]\n",
       " [       0     218       0       1       0       0       0       1       0       0]   99.091% \t[class: 2]\n",
       " [       1       0     195       0       0       0       0       1       1       0]   98.485% \t[class: 3]\n",
       " [       0       0       1     187       0       1       0       1       0       1]   97.906% \t[class: 4]\n",
       " [       0       1       0       0     211       0       0       0       0       2]   98.598% \t[class: 5]\n",
       " [       0       1       1       1       1     176       0       0       0       0]   97.778% \t[class: 6]\n",
       " [       1       0       0       0       0       0     199       0       0       0]   99.500% \t[class: 7]\n",
       " [       0       0       1       0       0       0       0     221       0       2]   98.661% \t[class: 8]\n",
       " [       0       0       1       1       0       0       0       0     169       1]   98.256% \t[class: 9]\n",
       " [       1       0       0       1       0       0       0       1       1     206]]  98.095% \t[class: 10]\n",
       " + average row correct: 98.584563136101% \n",
       " + average rowUcol correct (VOC measure): 97.237714529037% \n",
       " + global correct: 98.6%\n",
       "{\n",
       "  valids : FloatTensor - size: 10\n",
       "  mat : LongTensor - size: 10x10\n",
       "  averageUnionValid : 0.97237714529037\n",
       "  _targ_idx : LongTensor - empty\n",
       "  averageValid : 0.98584563136101\n",
       "  classes : \n",
       "    {\n",
       "      1 : 1\n",
       "      2 : 2\n",
       "      3 : 3\n",
       "      4 : 4\n",
       "      5 : 5\n",
       "      6 : 6\n",
       "      7 : 7\n",
       "      8 : 8\n",
       "      9 : 9\n",
       "      10 : 10"
      ]
     },
     "execution_count": 18,
     "metadata": {},
     "output_type": "execute_result"
    },
    {
     "data": {
      "text/plain": [
       "\n",
       "    }\n",
       "  _prediction : FloatTensor - size: 10\n",
       "  _pred_idx : LongTensor - size: 1\n",
       "  nclasses : 10\n",
       "  _max : FloatTensor - size: 1\n",
       "  _target : FloatTensor - empty\n",
       "  unionvalids : FloatTensor - size: 10\n",
       "  totalValid : 0.986\n",
       "}\n"
      ]
     },
     "execution_count": 18,
     "metadata": {},
     "output_type": "execute_result"
    },
    {
     "data": {
      "text/plain": [
       "<trainer> saving network to /home/ozan/egocentric-object/src/torch_mnist/logs/mnist.net\t\n",
       "<trainer> on testing Set:\t\n"
      ]
     },
     "execution_count": 18,
     "metadata": {},
     "output_type": "execute_result"
    },
    {
     "data": {
      "text/plain": [
       "Progress: 921 / 1000\t\n"
      ]
     },
     "execution_count": 18,
     "metadata": {},
     "output_type": "execute_result"
    },
    {
     "data": {
      "text/plain": [
       "<trainer> time to test 1 sample = 2.0741438865662ms\t\n"
      ]
     },
     "execution_count": 18,
     "metadata": {},
     "output_type": "execute_result"
    },
    {
     "data": {
      "text/plain": [
       "ConfusionMatrix:\n",
       "[[      84       0       0       0       0       0       0       0       1       0]   98.824% \t[class: 1]\n",
       " [       0     124       0       0       0       0       1       0       1       0]   98.413% \t[class: 2]\n",
       " [       2       0     112       0       0       0       1       1       0       0]   96.552% \t[class: 3]\n",
       " [       0       0       3     101       0       3       0       0       0       0]   94.393% \t[class: 4]\n",
       " [       0       0       0       0      97       0       3       0       3       7]   88.182% \t[class: 5]\n",
       " [       0       0       1       3       0      80       1       0       2       0]   91.954% \t[class: 6]\n",
       " [       3       0       0       0       1       0      83       0       0       0]   95.402% \t[class: 7]\n",
       " [       0       0       7       3       0       0       0      85       0       4]   85.859% \t[class: 8]\n",
       " [       0       0       3       3       0       0       0       0      83       0]   93.258% \t[class: 9]\n",
       " [       0       0       0       2       0       0       0       1       1      90]]  95.745% \t[class: 10]\n",
       " + average row correct: 93.85803103447% \n",
       " + average rowUcol correct (VOC measure): 88.445639610291% \n",
       " + global correct: 93.9%\n",
       "{\n",
       "  valids : FloatTensor - size: 10\n",
       "  mat : LongTensor - size: 10x10\n",
       "  averageUnionValid : 0.88445639610291\n",
       "  _targ_idx : LongTensor - empty\n",
       "  averageValid : 0.9385803103447\n",
       "  classes : \n",
       "    {\n",
       "      1 : 1\n",
       "      2 : 2\n",
       "      3 : 3\n",
       " "
      ]
     },
     "execution_count": 18,
     "metadata": {},
     "output_type": "execute_result"
    },
    {
     "data": {
      "text/plain": [
       "     4 : 4\n",
       "      5 : 5\n",
       "      6 : 6\n",
       "      7 : 7\n",
       "      8 : 8\n",
       "      9 : 9\n",
       "      10 : 10\n",
       "    }\n",
       "  _prediction : FloatTensor - size: 10\n",
       "  _pred_idx : LongTensor - size: 1\n",
       "  nclasses : 10\n",
       "  _max : FloatTensor - size: 1\n",
       "  _target : FloatTensor - empty\n",
       "  unionvalids : FloatTensor - size: 10\n",
       "  totalValid : 0.939\n",
       "}\n"
      ]
     },
     "execution_count": 18,
     "metadata": {},
     "output_type": "execute_result"
    },
    {
     "data": {
      "text/plain": [
       "<trainer> on training set:\t\n",
       "<trainer> online epoch # 5 [batchSize = 10]\t\n"
      ]
     },
     "execution_count": 18,
     "metadata": {},
     "output_type": "execute_result"
    },
    {
     "data": {
      "text/plain": [
       "Progress: 701 / 2000\t\n"
      ]
     },
     "execution_count": 18,
     "metadata": {},
     "output_type": "execute_result"
    },
    {
     "data": {
      "text/plain": [
       "Progress: 1611 / 2000\t\n"
      ]
     },
     "execution_count": 18,
     "metadata": {},
     "output_type": "execute_result"
    },
    {
     "data": {
      "text/plain": [
       "<trainer> time to learn 1 sample = 4.394602894783ms\t\n"
      ]
     },
     "execution_count": 18,
     "metadata": {},
     "output_type": "execute_result"
    },
    {
     "data": {
      "text/plain": [
       "ConfusionMatrix:\n",
       "[[     191       0       0       0       0       0       0       0       0       0]   100.000% \t[class: 1]\n",
       " [       0     218       1       0       0       0       0       1       0       0]   99.091% \t[class: 2]\n",
       " [       0       0     197       0       0       0       0       1       0       0]   99.495% \t[class: 3]\n",
       " [       0       0       0     188       0       1       0       1       0       1]   98.429% \t[class: 4]\n",
       " [       0       0       0       0     213       0       0       0       0       1]   99.533% \t[class: 5]\n",
       " [       0       1       0       0       0     179       0       0       0       0]   99.444% \t[class: 6]\n",
       " [       1       0       0       0       0       0     199       0       0       0]   99.500% \t[class: 7]\n",
       " [       0       0       0       0       0       0       0     222       0       2]   99.107% \t[class: 8]\n",
       " [       0       0       0       0       0       0       0       0     172       0]   100.000% \t[class: 9]\n",
       " [       1       0       0       0       0       0       0       1       1     207]]  98.571% \t[class: 10]\n",
       " + average row correct: 99.317090511322% \n",
       " + average rowUcol correct (VOC measure): 98.647766113281% \n",
       " + global correct: 99.3%\n",
       "{\n",
       "  valids : FloatTensor - size: 10\n",
       "  mat : LongTensor - size: 10x10\n",
       "  averageUnionValid : 0.98647766113281\n",
       "  _targ_idx : LongTensor - empty\n",
       "  averageValid : 0.99317090511322\n",
       "  classes : \n",
       "    {\n",
       "      1 : 1\n",
       "      2 : 2\n",
       "      3 : 3\n",
       "      4 : 4\n",
       "      5 : 5\n",
       "      6 : 6\n",
       "      7 : 7\n",
       "      8 : 8\n",
       "      9 : 9\n",
       "      10 : 10\n",
       "    }\n",
       "  _prediction : FloatTensor - size: 10\n",
       "  _pred_idx : LongTensor - size: 1\n",
       "  nclasses : 10\n",
       "  _max : FloatTensor - size: 1\n",
       "  _target : FloatTensor - empty\n",
       "  unionvalids : FloatTensor - size: 10\n",
       "  totalValid : 0.993\n",
       "}\n"
      ]
     },
     "execution_count": 18,
     "metadata": {},
     "output_type": "execute_result"
    },
    {
     "data": {
      "text/plain": [
       "<trainer> saving network to /home/ozan/egocentric-object/src/torch_mnist/logs/mnist.net\t\n",
       "<trainer> on testing Set:\t\n"
      ]
     },
     "execution_count": 18,
     "metadata": {},
     "output_type": "execute_result"
    },
    {
     "data": {
      "text/plain": [
       "<trainer> time to test 1 sample = 1.0483829975128ms\t\n"
      ]
     },
     "execution_count": 18,
     "metadata": {},
     "output_type": "execute_result"
    },
    {
     "data": {
      "text/plain": [
       "ConfusionMatrix:\n",
       "[[      85       0       0       0       0       0       0       0       0       0]   100.000% \t[class: 1]\n",
       " [       0     124       0       0       0       0       1       0       1       0]   98.413% \t[class: 2]\n",
       " [       2       0     112       0       0       0       1       1       0       0]   96.552% \t[class: 3]\n",
       " [       0       0       2     102       0       3       0       0       0       0]   95.327% \t[class: 4]\n",
       " [       0       1       0       0      98       0       3       0       0       8]   89.091% \t[class: 5]\n",
       " [       0       0       1       2       0      82       1       0       1       0]   94.253% \t[class: 6]\n",
       " [       3       0       0       0       1       0      83       0       0       0]   95.402% \t[class: 7]\n",
       " [       0       0       6       3       0       0       0      86       0       4]   86.869% \t[class: 8]\n",
       " [       0       0       2       3       0       0       0       0      83       1]   93.258% \t[class: 9]\n",
       " [       0       0       0       2       0       0       0       1       0      91]]  96.809% \t[class: 10]\n",
       " + average row correct: 94.597322940826% \n",
       " + average rowUcol correct (VOC measure): 89.750144481659% \n",
       " + global correct: 94.6%\n",
       "{\n",
       "  valids : FloatTensor - size: 10\n",
       "  mat : LongTensor - size: 10x10\n",
       "  averageUnionValid : 0.89750144481659\n",
       "  _targ_idx : LongTensor - empty\n",
       "  averageValid : 0.94597322940826\n",
       "  classes : \n",
       "    {\n",
       "      1 : 1\n",
       "      2 : 2\n",
       "      3 : 3\n",
       "      4 : 4\n",
       "      5 : 5\n",
       "      6 : 6\n",
       "      7 : 7\n",
       "      8 : 8\n",
       "      9 : 9\n",
       "      10 : 10\n",
       "    }\n",
       "  _prediction : FloatTensor - size: 10\n",
       "  _pred_idx : LongTensor - size: 1\n",
       "  nclasses : 10\n",
       "  _max : FloatTensor - size: 1\n",
       "  _target : FloatTensor - empty\n",
       "  unionvalids : FloatTensor - size: 10\n",
       "  totalValid : 0.946\n",
       "}\n"
      ]
     },
     "execution_count": 18,
     "metadata": {},
     "output_type": "execute_result"
    },
    {
     "data": {
      "text/plain": [
       "<trainer> on training set:\t\n",
       "<trainer> online epoch # 6 [batchSize = 10]\t\n"
      ]
     },
     "execution_count": 18,
     "metadata": {},
     "output_type": "execute_result"
    },
    {
     "data": {
      "text/plain": [
       "Progress: 721 / 2000\t\n"
      ]
     },
     "execution_count": 18,
     "metadata": {},
     "output_type": "execute_result"
    },
    {
     "data": {
      "text/plain": [
       "Progress: 1461 / 2000\t\n"
      ]
     },
     "execution_count": 18,
     "metadata": {},
     "output_type": "execute_result"
    },
    {
     "data": {
      "text/plain": [
       "<trainer> time to learn 1 sample = 5.1558765172958ms\t\n"
      ]
     },
     "execution_count": 18,
     "metadata": {},
     "output_type": "execute_result"
    },
    {
     "data": {
      "text/plain": [
       "ConfusionMatrix:\n",
       "[[     191       0       0       0       0       0       0       0       0       0]   100.000% \t[class: 1]\n",
       " [       0     220       0       0       0       0       0       0       0       0]   100.000% \t[class: 2]\n",
       " [       0       0     198       0       0       0       0       0       0       0]   100.000% \t[class: 3]\n",
       " [       0       0       1     190       0       0       0       0       0       0]   99.476% \t[class: 4]\n",
       " [       0       0       0       0     213       0       0       0       0       1]   99.533% \t[class: 5]\n",
       " [       0       0       0       0       0     180       0       0       0       0]   100.000% \t[class: 6]\n",
       " [       1       0       0       0       0       0     199       0       0       0]   99.500% \t[class: 7]\n",
       " [       0       0       0       0       0       0       0     224       0       0]   100.000% \t[class: 8]\n",
       " [       0       0       0       0       0       0       0       0     172       0]   100.000% \t[class: 9]\n",
       " [       1       0       0       0       0       0       0       0       0     209]]  99.524% \t[class: 10]\n",
       " + average row correct: 99.803295731544% \n",
       " + average rowUcol correct (VOC measure): 99.602249860764% \n",
       " + global correct: 99.8%\n",
       "{\n",
       "  valids : FloatTensor - size: 10\n",
       "  mat : LongTensor - size: 10x10\n",
       "  averageUnionValid : 0.99602249860764\n",
       "  _targ_idx : LongTensor - empty\n",
       "  averageValid : 0.99803295731544\n",
       "  classes : \n",
       "    {\n",
       "      1 : 1\n",
       "      2 : 2\n",
       "      3 : 3\n",
       "      4 : 4\n",
       "      5 : 5\n",
       "      6 : 6\n",
       "      7 : 7\n",
       "      8 : 8\n",
       "    "
      ]
     },
     "execution_count": 18,
     "metadata": {},
     "output_type": "execute_result"
    },
    {
     "data": {
      "text/plain": [
       "  9 : 9\n"
      ]
     },
     "execution_count": 18,
     "metadata": {},
     "output_type": "execute_result"
    },
    {
     "data": {
      "text/plain": [
       "      10 : 10\n",
       "    }\n",
       "  _prediction : FloatTensor - size: 10\n",
       "  _pred_idx : LongTensor - size: 1\n",
       "  nclasses : 10\n",
       "  _max : FloatTensor - size: 1\n",
       "  _target : FloatTensor - empty\n",
       "  unionvalids : FloatTensor - size: 10\n",
       "  totalValid : 0.998\n",
       "}\n"
      ]
     },
     "execution_count": 18,
     "metadata": {},
     "output_type": "execute_result"
    },
    {
     "data": {
      "text/plain": [
       "<trainer> saving network to /home/ozan/egocentric-object/src/torch_mnist/logs/mnist.net\t\n"
      ]
     },
     "execution_count": 18,
     "metadata": {},
     "output_type": "execute_result"
    },
    {
     "data": {
      "text/plain": [
       "<trainer> on testing Set:\t\n"
      ]
     },
     "execution_count": 18,
     "metadata": {},
     "output_type": "execute_result"
    },
    {
     "data": {
      "text/plain": [
       "Progress: 121 / 1000\t\n"
      ]
     },
     "execution_count": 18,
     "metadata": {},
     "output_type": "execute_result"
    },
    {
     "data": {
      "text/plain": [
       "<trainer> time to test 1 sample = 1.6379618644714ms\t\n",
       "ConfusionMatrix:\n",
       "[[      85       0       0       0       0       0       0       0       0       0]   100.000% \t[class: 1]\n",
       " [       0     124       0       0       0       0       1       0       1       0]   98.413% \t[class: 2]\n",
       " [       2       0     111       0       0       0       1       2       0       0]   95.690% \t[class: 3]\n",
       " [       0       0       2     102       0       3       0       0       0       0]   95.327% \t[class: 4]\n",
       " [       0       1       0       0      99       0       2       0       0       8]   90.000% \t[class: 5]\n",
       " [       0       0       1       2       0      81       1       0       1       1]   93.103% \t[class: 6]\n",
       " [       2       0       0       0       1       0      84       0       0       0]   96.552% \t[class: 7]\n",
       " [       0       0       4       2       0       0       0      90       0       3]   90.909% \t[class: 8]\n",
       " [       1       0       2       4       1       0       0       0      80       1]   89.888% \t[class: 9]\n",
       " [       0       0       0       1       0       0       0       1       0      92]]  97.872% \t[class: 10]\n",
       " + average row correct: 94.775370359421% \n",
       " + average rowUcol correct (VOC measure): 90.063917636871% \n",
       " + global correct: 94.8%\n",
       "{\n",
       "  valids : FloatTensor - size: 10\n",
       "  mat : LongTensor - size: 10x10\n",
       "  averageUnionValid : 0.90063917636871\n",
       "  _targ_idx : LongTensor - empty\n",
       "  averageValid : 0.94775370359421\n",
       "  classes : \n",
       "    {\n",
       "      1 : 1\n",
       "      2 : 2\n",
       "      3 : 3\n",
       "      4 : 4\n",
       "      5 : 5\n",
       "      6 : 6\n",
       "      7 : 7\n",
       "      8 : 8\n",
       "      9 : 9\n",
       "      10 : 10\n",
       "    }\n",
       "  _prediction : FloatTensor - size: 10\n",
       "  _pred_idx : LongTensor - size: 1\n",
       "  nclasses : 10\n",
       "  _max : FloatTensor - size: 1\n",
       "  _target : FloatTensor - empty\n",
       "  unionvalids : FloatTensor - size: 10\n",
       "  totalValid : 0.948\n",
       "}\n"
      ]
     },
     "execution_count": 18,
     "metadata": {},
     "output_type": "execute_result"
    },
    {
     "data": {
      "text/plain": [
       "<trainer> on training set:\t\n",
       "<trainer> online epoch # 7 [batchSize = 10]\t\n"
      ]
     },
     "execution_count": 18,
     "metadata": {},
     "output_type": "execute_result"
    },
    {
     "data": {
      "text/plain": [
       "Progress: 1511 / 2000\t"
      ]
     },
     "execution_count": 18,
     "metadata": {},
     "output_type": "execute_result"
    },
    {
     "data": {
      "text/plain": [
       "\n"
      ]
     },
     "execution_count": 18,
     "metadata": {},
     "output_type": "execute_result"
    },
    {
     "data": {
      "text/plain": [
       "<trainer> time to learn 1 sample = 2.9492990970612ms\t\n"
      ]
     },
     "execution_count": 18,
     "metadata": {},
     "output_type": "execute_result"
    },
    {
     "data": {
      "text/plain": [
       "ConfusionMatrix:\n",
       "[[     191       0       0       0       0       0       0       0       0       0]   100.000% \t[class: 1]\n",
       " [       0     220       0       0       0       0       0       0       0       0]   100.000% \t[class: 2]\n",
       " [       0       0     198       0       0       0       0       0       0       0]   100.000% \t[class: 3]\n",
       " [       0       0       0     191       0       0       0       0       0       0]   100.000% \t[class: 4]\n",
       " [       0       0       0       0     214       0       0       0       0       0]   100.000% \t[class: 5]\n",
       " [       0       0       0       0       0     180       0       0       0       0]   100.000% \t[class: 6]\n",
       " [       1       0       0       0       0       0     199       0       0       0]   99.500% \t[class: 7]\n",
       " [       0       0       0       0       0       0       0     224       0       0]   100.000% \t[class: 8]\n",
       " [       0       0       0       0       0       0       0       0     172       0]   100.000% \t[class: 9]\n",
       " [       0       0       0       0       0       0       0       0       0     210]]  100.000% \t[class: 10]\n",
       " + average row correct: 99.950000047684% \n",
       " + average rowUcol correct (VOC measure): 99.897916913033% \n",
       " + global correct: 99.95%\n",
       "{\n",
       "  valids : FloatTensor - size: 10\n",
       "  mat : LongTensor - size: 10x10\n",
       "  averageUnionValid : 0.99897916913033"
      ]
     },
     "execution_count": 18,
     "metadata": {},
     "output_type": "execute_result"
    },
    {
     "data": {
      "text/plain": [
       "\n",
       "  _targ_idx : LongTensor - empty\n",
       "  averageValid : 0.99950000047684\n",
       "  classes : \n",
       "    {\n",
       "      1 : 1\n",
       "      2 : 2\n",
       "      3 : 3\n",
       "      4 : 4\n",
       "      5 : 5\n",
       "      6 : 6\n",
       "      7 : 7\n",
       "      8 : 8\n",
       "      9 : 9\n",
       "      10 : 10\n",
       "    }\n",
       "  _prediction : FloatTensor - size: 10\n",
       "  _pred_idx : LongTensor - size: 1\n",
       "  nclasses : 10\n",
       "  _max : FloatTensor - size: 1\n",
       "  _target : FloatTensor - empty\n",
       "  unionvalids : FloatTensor - size: 10\n",
       "  totalValid : 0.9995\n",
       "}\n"
      ]
     },
     "execution_count": 18,
     "metadata": {},
     "output_type": "execute_result"
    },
    {
     "data": {
      "text/plain": [
       "<trainer> saving network to /home/ozan/egocentric-object/src/torch_mnist/logs/mnist.net\t\n",
       "<trainer> on testing Set:\t\n"
      ]
     },
     "execution_count": 18,
     "metadata": {},
     "output_type": "execute_result"
    },
    {
     "data": {
      "text/plain": [
       "Progress: 461 / 1000\t\n"
      ]
     },
     "execution_count": 18,
     "metadata": {},
     "output_type": "execute_result"
    },
    {
     "data": {
      "text/plain": [
       "<trainer> time to test 1 sample = 3.0399529933929ms\t\n"
      ]
     },
     "execution_count": 18,
     "metadata": {},
     "output_type": "execute_result"
    },
    {
     "data": {
      "text/plain": [
       "ConfusionMatrix:\n",
       "[[      85       0       0       0       0       0       0       0       0       0]   100.000% \t[class: 1]\n",
       " [       0     124       0       0       0       0       1       0       1       0]   98.413% \t[class: 2]\n",
       " [       2       0     110       0       0       0       2       2       0       0]   94.828% \t[class: 3]\n",
       " [       0       0       2     101       0       4       0       0       0       0]   94.393% \t[class: 4]\n",
       " [       0       1       0       0     100       0       2       0       0       7]   90.909% \t[class: 5]\n",
       " [       0       0       1       1       0      82       1       0       1       1]   94.253% \t[class: 6]\n",
       " [       2       0       0       0       1       0      84       0       0       0]   96.552% \t[class: 7]\n",
       " [       0       0       3       1       0       0       0      92       0       3]   92.929% \t[class: 8]\n",
       " [       1       0       2       2       2       0       0       0      81       1]   91.011% \t[class: 9]\n",
       " [       0       0       0       1       0       0       0       1       0      92]]  97.872% \t[class: 10]\n",
       " + average row correct: 95.115936994553% \n",
       " + average rowUcol correct (VOC measure): 90.589805245399% \n",
       " + global correct: 95.1%\n",
       "{\n",
       "  valids : FloatTensor - size: 10\n",
       "  mat : LongTensor - size: 10x10\n",
       "  averageUnionValid : 0.90589805245399\n",
       " "
      ]
     },
     "execution_count": 18,
     "metadata": {},
     "output_type": "execute_result"
    },
    {
     "data": {
      "text/plain": [
       " _targ_idx : LongTensor - empty\n",
       "  averageValid : 0.95115936994553\n",
       "  classes : \n",
       "    {\n",
       "      1 : 1\n",
       "      2 : 2\n",
       "      3 : 3\n",
       "      4 : 4\n",
       "      5 : 5\n",
       "      6 : 6\n",
       "      7 : 7\n",
       "      8 : 8\n",
       "      9 : 9\n",
       "      10 : 10\n",
       "    }\n",
       "  _prediction : FloatTensor - size: 10\n",
       "  _pred_idx : LongTensor - size: 1\n",
       "  nclasses : 10\n",
       "  _max : FloatTensor - size: 1\n",
       "  _target : FloatTensor - empty\n",
       "  unionvalids : FloatTensor - size: 10"
      ]
     },
     "execution_count": 18,
     "metadata": {},
     "output_type": "execute_result"
    },
    {
     "data": {
      "text/plain": [
       "\n",
       "  totalValid : 0.951\n",
       "}\n"
      ]
     },
     "execution_count": 18,
     "metadata": {},
     "output_type": "execute_result"
    },
    {
     "data": {
      "text/plain": [
       "<trainer> on training set:\t\n",
       "<trainer> online epoch # 8 [batchSize = 10]\t\n"
      ]
     },
     "execution_count": 18,
     "metadata": {},
     "output_type": "execute_result"
    },
    {
     "data": {
      "text/plain": [
       "Progress: 1381 / 2000\t\n"
      ]
     },
     "execution_count": 18,
     "metadata": {},
     "output_type": "execute_result"
    },
    {
     "data": {
      "text/plain": [
       "<trainer> time to learn 1 sample = 2.2677345275879ms\t\n"
      ]
     },
     "execution_count": 18,
     "metadata": {},
     "output_type": "execute_result"
    },
    {
     "data": {
      "text/plain": [
       "ConfusionMatrix:\n",
       "[[     191       0       0       0       0       0       0       0       0       0]   100.000% \t[class: 1]\n",
       " [       0     220       0       0       0       0       0       0       0       0]   100.000% \t[class: 2]\n",
       " [       0       0     198       0       0       0       0       0       0       0]   100.000% \t[class: 3]\n",
       " [       0       0       0     191       0       0       0       0       0       0]   100.000% \t[class: 4]\n",
       " [       0       0       0       0     214       0       0       0       0       0]   100.000% \t[class: 5]\n",
       " [       0       0       0       0       0     180       0       0       0       0]   100.000% \t[class: 6]\n",
       " [       0       0       0       0       0       0     200       0       0       0]   100.000% \t[class: 7]\n",
       " [       0       0       0       0       0       0       0     224       0       0]   100.000% \t[class: 8]\n",
       " [       0       0       0       0       0       0       0       0     172       0]   100.000% \t[class: 9]\n",
       " [       0       0       0       0       0       0       0       0       0     210]]  100.000% \t[class: 10]\n",
       " + average row correct: 100% \n",
       " + average rowUcol correct (VOC measure): 100% \n",
       " + global correct: 100%\n",
       "{\n",
       "  valids : FloatTensor - size: 10\n",
       "  mat : LongTensor - size: 10x10\n",
       "  averageUnionValid : 1\n",
       "  _targ_idx : LongTensor - empty\n",
       "  averageValid : 1\n",
       "  classes : \n",
       "    {\n",
       "      1 : 1\n",
       "      2 : 2\n",
       " "
      ]
     },
     "execution_count": 18,
     "metadata": {},
     "output_type": "execute_result"
    },
    {
     "data": {
      "text/plain": [
       "     3 : 3\n",
       "      4 : 4\n",
       "      5 : 5\n",
       "      6 : 6\n",
       "      7 : 7\n",
       "      8 : 8\n",
       "      9 : 9\n",
       "      10 : 10\n",
       "    }\n",
       "  _prediction : FloatTensor - size: 10\n",
       "  _pred_idx : LongTensor - size: 1\n",
       "  nclasses : 10\n",
       "  _max : FloatTensor - size: 1\n",
       " "
      ]
     },
     "execution_count": 18,
     "metadata": {},
     "output_type": "execute_result"
    },
    {
     "data": {
      "text/plain": [
       " _target : FloatTensor - empty\n",
       "  unionvalids : FloatTensor - size: 10\n",
       "  totalValid : 1\n",
       "}\n"
      ]
     },
     "execution_count": 18,
     "metadata": {},
     "output_type": "execute_result"
    },
    {
     "data": {
      "text/plain": [
       "<trainer> saving network to /home/ozan/egocentric-object/src/torch_mnist/logs/mnist.net\t\n",
       "<trainer> on testing Set:\t\n"
      ]
     },
     "execution_count": 18,
     "metadata": {},
     "output_type": "execute_result"
    },
    {
     "data": {
      "text/plain": [
       "Progress: 631 / 1000\t\n"
      ]
     },
     "execution_count": 18,
     "metadata": {},
     "output_type": "execute_result"
    },
    {
     "data": {
      "text/plain": [
       "<trainer> time to test 1 sample = 3.0512509346008ms\t\n"
      ]
     },
     "execution_count": 18,
     "metadata": {},
     "output_type": "execute_result"
    },
    {
     "data": {
      "text/plain": [
       "ConfusionMatrix:\n",
       "[[      84       0       0       0       0       1       0       0       0       0]   98.824% \t[class: 1]\n",
       " [       0     124       0       0       0       0       1       0       1       0]   98.413% \t[class: 2]\n",
       " [       2       0     110       0       0       0       2       2       0       0]   94.828% \t[class: 3]\n",
       " [       0       0       2     101       0       4       0       0       0       0]   94.393% \t[class: 4]\n",
       " [       0       1       0       0     100       0       2       0       0       7]   90.909% \t[class: 5]\n",
       " [       0       0       1       1       0      82       1       0       1       1]   94.253% \t[class: 6]\n",
       " [       2       0       0       0       1       0      84       0       0       0]   96.552% \t[class: 7]\n",
       " [       0       0       3       1       0       0       0      92       0       3]   92.929% \t[class: 8]\n",
       " [       1       0       2       2       2       0       0       0      81       1]   91.011% \t[class: 9]\n",
       " [       0       0       0       1       0       0       0       1       0      92]]  97.872% \t[class: 10]\n",
       " + average row correct: 94.998289942741% \n",
       " + average rowUcol correct (VOC measure): 90.380749106407% \n",
       " + global correct: 95%\n",
       "{\n",
       "  valids : FloatTensor - size: 10\n",
       "  mat : LongTensor - size: 10x10\n",
       "  averageUnionValid : 0.90380749106407\n",
       "  _targ_idx : LongTensor - empty\n",
       "  averageValid : 0.94998289942741\n",
       " "
      ]
     },
     "execution_count": 18,
     "metadata": {},
     "output_type": "execute_result"
    },
    {
     "data": {
      "text/plain": [
       " classes : \n",
       "    {\n",
       "      1 : 1\n",
       "      2 : 2\n",
       "      3 : 3\n",
       "      4 : 4\n",
       "      5 : 5\n",
       "      6 : 6\n",
       "      7 : 7\n",
       "      8 : 8\n",
       "      9 : 9\n",
       "      10 : 10\n",
       "    }\n",
       "  _prediction : FloatTensor - size: 10\n",
       "  _pred_idx : LongTensor - size: 1\n",
       "  nclasses : 10\n",
       "  _max : FloatTensor - size: 1\n",
       "  _target : FloatTensor - empty\n",
       "  unionvalids : FloatTensor - size: 10\n",
       "  totalValid : 0.95\n",
       "}\n"
      ]
     },
     "execution_count": 18,
     "metadata": {},
     "output_type": "execute_result"
    },
    {
     "data": {
      "text/plain": [
       "<trainer> on training set:\t\n",
       "<trainer> online epoch # 9 [batchSize = 10]\t\n"
      ]
     },
     "execution_count": 18,
     "metadata": {},
     "output_type": "execute_result"
    },
    {
     "data": {
      "text/plain": [
       "Progress: 551 / 2000\t\n"
      ]
     },
     "execution_count": 18,
     "metadata": {},
     "output_type": "execute_result"
    },
    {
     "data": {
      "text/plain": [
       "<trainer> time to learn 1 sample = 3.3587590456009ms\t\n",
       "ConfusionMatrix:\n",
       "[[     191       0       0       0       0       0       0       0       0       0]   100.000% \t[class: 1]\n",
       " [       0     220       0       0       0       0       0       0       0       0]   100.000% \t[class: 2]\n",
       " [       0       0     198       0       0       0       0       0       0       0]   100.000% \t[class: 3]\n",
       " [       0       0       0     191       0       0       0       0       0       0]   100.000% \t[class: 4]\n",
       " [       0       0       0       0     214       0       0       0       0       0]   100.000% \t[class: 5]\n",
       " [       0       0       0       0       0     180       0       0       0       0]   100.000% \t[class: 6]\n",
       " [       0       0       0       0       0       0     200       0       0       0]   100.000% \t[class: 7]\n",
       " [       0       0       0       0       0       0       0     224       0       0]   100.000% \t[class: 8]\n",
       " [       0       0       0       0       0       0       0       0     172       0]   100.000% \t[class: 9]\n",
       " [       0       0       0       0       0       0       0       0       0     210]]  100.000% \t[class: 10]\n",
       " + average row correct: 100% \n",
       " + average rowUcol correct (VOC measure): 100% \n",
       " + global correct: 100%\n",
       "{\n",
       "  "
      ]
     },
     "execution_count": 18,
     "metadata": {},
     "output_type": "execute_result"
    },
    {
     "data": {
      "text/plain": [
       "valids : FloatTensor - size: 10\n",
       "  mat : LongTensor - size: 10x10\n",
       "  averageUnionValid : 1\n",
       "  _targ_idx : LongTensor - empty\n",
       "  averageValid : 1\n",
       "  classes : \n",
       "    {\n",
       "      1 : 1\n",
       "      2 : 2\n",
       "      3 : 3\n",
       "      4 : 4\n",
       "      5 : 5\n",
       "      6 : 6\n",
       "      7 : 7\n",
       "      8 : 8\n",
       "      9 : 9\n",
       "      10 : 10\n",
       "    }\n",
       "  _prediction : FloatTensor - size: 10\n",
       "  _pred_idx : LongTensor - size: 1\n",
       "  nclasses : 10\n",
       "  _max : FloatTensor - size: 1\n",
       "  _target : FloatTensor - empty\n",
       "  unionvalids : FloatTensor - size: 10\n",
       "  totalValid : 1\n",
       "}\n"
      ]
     },
     "execution_count": 18,
     "metadata": {},
     "output_type": "execute_result"
    },
    {
     "data": {
      "text/plain": [
       "<trainer> saving network to /home/ozan/egocentric-object/src/torch_mnist/logs/mnist.net\t\n"
      ]
     },
     "execution_count": 18,
     "metadata": {},
     "output_type": "execute_result"
    },
    {
     "data": {
      "text/plain": [
       "<trainer> on testing Set:\t\n"
      ]
     },
     "execution_count": 18,
     "metadata": {},
     "output_type": "execute_result"
    },
    {
     "data": {
      "text/plain": [
       "Progress: 61 / 1000\t\n"
      ]
     },
     "execution_count": 18,
     "metadata": {},
     "output_type": "execute_result"
    },
    {
     "data": {
      "text/plain": [
       "<trainer> time to test 1 sample = 3.9106070995331ms\t\n"
      ]
     },
     "execution_count": 18,
     "metadata": {},
     "output_type": "execute_result"
    },
    {
     "data": {
      "text/plain": [
       "ConfusionMatrix:\n",
       "[[      84       0       0       0       0       1       0       0       0       0]   98.824% \t[class: 1]\n",
       " [       0     125       0       0       0       0       0       0       1       0]   99.206% \t[class: 2]\n",
       " [       2       0     110       0       0       0       2       2       0       0]   94.828% \t[class: 3]\n",
       " [       0       0       1     102       0       4       0       0       0       0]   95.327% \t[class: 4]\n",
       " [       0       1       0       0     101       0       1       0       0       7]   91.818% \t[class: 5]\n",
       " [       0       0       1       1       0      82       1       0       1       1]   94.253% \t[class: 6]\n",
       " [       2       0       0       0       1       0      84       0       0       0]   96.552% \t[class: 7]\n",
       " [       0       0       3       1       0       0       0      92       0       3]   92.929% \t[class: 8]\n",
       " [       1       0       2       2       2       0       0       0      81       1]   91.011% \t[class: 9]\n",
       " [       0       0       0       1       0       0       0       1       0      92]]  97.872% \t[class: 10]\n",
       " + average row correct: 95.262021422386% \n",
       " + average rowUcol correct (VOC measure): 90.907903313637% \n",
       " + global correct: 95.3%\n",
       "{\n",
       "  valids : FloatTensor - size: 10\n"
      ]
     },
     "execution_count": 18,
     "metadata": {},
     "output_type": "execute_result"
    },
    {
     "data": {
      "text/plain": [
       "  mat : LongTensor - size: 10x10\n",
       "  averageUnionValid : 0.90907903313637\n",
       "  _targ_idx : LongTensor - empty\n",
       "  averageValid : 0.95262021422386\n",
       "  classes : \n",
       "    {\n",
       "      1 : 1\n",
       "      2 : 2\n",
       "      3 : 3\n",
       "      4 : 4\n",
       "      5 : 5\n",
       "      6 : 6\n",
       "      7 : 7\n",
       "      8 : 8\n",
       "      9 : 9\n",
       "      10 : 10\n",
       "    }\n",
       "  _prediction : FloatTensor - size: 10\n",
       "  _pred_idx : LongTensor - size: 1\n",
       "  nclasses : 10\n",
       "  _max : FloatTensor - size: 1\n",
       "  _target : FloatTensor - empty\n",
       "  unionvalids : FloatTensor - size: 10\n",
       "  totalValid : 0.953\n",
       "}\n"
      ]
     },
     "execution_count": 18,
     "metadata": {},
     "output_type": "execute_result"
    },
    {
     "data": {
      "text/plain": [
       "<trainer> on training set:\t\n",
       "<trainer> online epoch # 10 [batchSize = 10]\t\n"
      ]
     },
     "execution_count": 18,
     "metadata": {},
     "output_type": "execute_result"
    },
    {
     "data": {
      "text/plain": [
       "Progress: 321 / 2000\t\n"
      ]
     },
     "execution_count": 18,
     "metadata": {},
     "output_type": "execute_result"
    },
    {
     "data": {
      "text/plain": [
       "Progress: 1211 / 2000\t"
      ]
     },
     "execution_count": 18,
     "metadata": {},
     "output_type": "execute_result"
    },
    {
     "data": {
      "text/plain": [
       "\n"
      ]
     },
     "execution_count": 18,
     "metadata": {},
     "output_type": "execute_result"
    },
    {
     "data": {
      "text/plain": [
       "Progress: 1711 / 2000\t\n"
      ]
     },
     "execution_count": 18,
     "metadata": {},
     "output_type": "execute_result"
    },
    {
     "data": {
      "text/plain": [
       "<trainer> time to learn 1 sample = 6.1305494308472ms\t\n"
      ]
     },
     "execution_count": 18,
     "metadata": {},
     "output_type": "execute_result"
    },
    {
     "data": {
      "text/plain": [
       "ConfusionMatrix:\n",
       "[[     191       0       0       0       0       0       0       0       0       0]   100.000% \t[class: 1]\n",
       " [       0     220       0       0       0       0       0       0       0       0]   100.000% \t[class: 2]\n",
       " [       0       0     198       0       0       0       0       0       0       0]   100.000% \t[class: 3]\n",
       " [       0       0       0     191       0       0       0       0       0       0]   100.000% \t[class: 4]\n",
       " [       0       0       0       0     214       0       0       0       0       0]   100.000% \t[class: 5]\n",
       " [       0       0       0       0       0     180       0       0       0       0]   100.000% \t[class: 6]\n",
       " [       0       0       0       0       0       0     200       0       0       0]   100.000% \t[class: 7]\n",
       " [       0       0       0       0       0       0       0     224       0       0]   100.000% \t[class: 8]\n",
       " [       0       0       0       0       0       0       0       0     172       0]   100.000% \t[class: 9]\n",
       " [       0       0       0       0       0       0       0       0       0     210]]  100.000% \t[class: 10]\n",
       " + average row correct: 100% \n",
       " + average rowUcol correct (VOC measure): 100% \n",
       " + global correct: 100%\n",
       "{\n",
       "  valids : FloatTensor - size: 10\n",
       "  mat : LongTensor - size: 10x10\n",
       "  averageUnionValid : 1\n",
       "  _targ_idx : LongTensor - empty\n",
       "  averageValid : 1\n",
       "  classes : \n",
       "    {\n",
       "      1 : 1\n",
       "      2 : 2\n",
       "      3 : 3"
      ]
     },
     "execution_count": 18,
     "metadata": {},
     "output_type": "execute_result"
    },
    {
     "data": {
      "text/plain": [
       "\n",
       "      4 : 4\n",
       "      5 : 5\n",
       "      6 : 6\n",
       "      7 : 7\n",
       "      8 : 8\n",
       "      9 : 9\n",
       "      10 : 10\n",
       "    }\n"
      ]
     },
     "execution_count": 18,
     "metadata": {},
     "output_type": "execute_result"
    },
    {
     "data": {
      "text/plain": [
       "  _prediction : FloatTensor - size: 10\n",
       " "
      ]
     },
     "execution_count": 18,
     "metadata": {},
     "output_type": "execute_result"
    },
    {
     "data": {
      "text/plain": [
       " _pred_idx : LongTensor - size: 1\n",
       "  nclasses : 10\n",
       "  _max : FloatTensor - size: 1\n",
       "  _target : FloatTensor - empty"
      ]
     },
     "execution_count": 18,
     "metadata": {},
     "output_type": "execute_result"
    },
    {
     "data": {
      "text/plain": [
       "\n",
       "  unionvalids : FloatTensor - size: 10\n",
       "  totalValid : 1\n",
       "}\n"
      ]
     },
     "execution_count": 18,
     "metadata": {},
     "output_type": "execute_result"
    },
    {
     "data": {
      "text/plain": [
       "<trainer> saving network to /home/ozan/egocentric-object/src/torch_mnist/logs/mnist.net\t\n"
      ]
     },
     "execution_count": 18,
     "metadata": {},
     "output_type": "execute_result"
    },
    {
     "data": {
      "text/plain": [
       "<trainer> on testing Set:\t\n"
      ]
     },
     "execution_count": 18,
     "metadata": {},
     "output_type": "execute_result"
    },
    {
     "data": {
      "text/plain": [
       "<trainer> time to test 1 sample = 2.3087899684906ms\t\n"
      ]
     },
     "execution_count": 18,
     "metadata": {},
     "output_type": "execute_result"
    },
    {
     "data": {
      "text/plain": [
       "ConfusionMatrix:\n",
       "[[      84       0       0       0       0       1       0       0       0       0]   98.824% \t[class: 1]\n",
       " [       0     125       0       0       0       0       0       0       1       0]   99.206% \t[class: 2]\n",
       " [       2       0     110       0       0       0       2       2       0       0]   94.828% \t[class: 3]\n",
       " [       0       0       1     102       0       4       0       0       0       0]   95.327% \t[class: 4]\n",
       " [       0       1       0       0     101       0       1       0       0       7]   91.818% \t[class: 5]\n",
       " [       0       0       1       1       0      82       1       0       1       1]   94.253% \t[class: 6]\n",
       " [       2       0       0       0       1       0      84       0       0       0]   96.552% \t[class: 7]\n",
       " [       0       0       3       1       0       0       0      92       0       3]   92.929% \t[class: 8]\n",
       " [       1       0       2       2       2       0       0       0      81       1]   91.011% \t[class: 9]\n",
       " [       0       0       0       1       0       0       0       1       0      92]]  97.872% \t[class: 10]\n",
       " + average row correct: 95.262021422386% \n",
       " + average rowUcol correct (VOC measure): 90.907903313637% \n",
       " + global correct: 95.3%\n",
       "{\n",
       "  valids : FloatTensor - size: 10\n",
       "  mat : LongTensor - size: 10x10\n",
       "  averageUnionValid : 0.90907903313637\n",
       "  _targ_idx : LongTensor - empty\n",
       "  averageValid : 0.95262021422386\n",
       "  classes : \n",
       "    {\n",
       "      1 : 1\n",
       "      2 : 2\n",
       "      3 : 3\n",
       "      4 : 4\n",
       "      5 : 5\n",
       "      6 : 6\n",
       "   "
      ]
     },
     "execution_count": 18,
     "metadata": {},
     "output_type": "execute_result"
    },
    {
     "data": {
      "text/plain": [
       "   7 : 7\n",
       "      8 : 8\n",
       "      9 : 9\n",
       "      10 : 10\n",
       "    }\n",
       "  _prediction : FloatTensor - size: 10\n",
       "  _pred_idx : LongTensor - size: 1\n",
       "  nclasses : 10\n",
       "  _max : FloatTensor - size: 1\n",
       "  _target : FloatTensor - empty\n",
       "  unionvalids : FloatTensor - size: 10\n",
       "  totalValid : 0.953\n",
       "}\n"
      ]
     },
     "execution_count": 18,
     "metadata": {},
     "output_type": "execute_result"
    },
    {
     "data": {
      "text/plain": [
       "<trainer> on training set:\t\n",
       "<trainer> online epoch # 11 [batchSize = 10]\t\n"
      ]
     },
     "execution_count": 18,
     "metadata": {},
     "output_type": "execute_result"
    },
    {
     "data": {
      "text/plain": [
       "Progress: 111 / 2000\t\n"
      ]
     },
     "execution_count": 18,
     "metadata": {},
     "output_type": "execute_result"
    },
    {
     "data": {
      "text/plain": [
       "Progress: 1631 / 2000\t\n"
      ]
     },
     "execution_count": 18,
     "metadata": {},
     "output_type": "execute_result"
    },
    {
     "data": {
      "text/plain": [
       "<trainer> time to learn 1 sample = 2.5857709646225ms\t\n"
      ]
     },
     "execution_count": 18,
     "metadata": {},
     "output_type": "execute_result"
    },
    {
     "data": {
      "text/plain": [
       "ConfusionMatrix:\n",
       "[[     191       0       0       0       0       0       0       0       0       0]   100.000% \t[class: 1]\n",
       " [       0     220       0       0       0       0       0       0       0       0]   100.000% \t[class: 2]\n",
       " [       0       0     198       0       0       0       0       0       0       0]   100.000% \t[class: 3]\n",
       " [       0       0       0     191       0       0       0       0       0       0]   100.000% \t[class: 4]\n",
       " [       0       0       0       0     214       0       0       0       0       0]   100.000% \t[class: 5]\n",
       " [       0       0       0       0       0     180       0       0       0       0]   100.000% \t[class: 6]\n",
       " [       0       0       0       0       0       0     200       0       0       0]   100.000% \t[class: 7]\n",
       " [       0       0       0       0       0       0       0     224       0       0]   100.000% \t[class: 8]\n",
       " [       0       0       0       0       0       0       0       0     172       0]   100.000% \t[class: 9]\n",
       " [       0       0       0       0       0       0       0       0       0     210]]  100.000% \t[class: 10]\n",
       " + average row correct: 100% \n",
       " + average rowUcol correct (VOC measure): 100% \n",
       " + global correct: 100%\n",
       "{\n",
       "  valids : FloatTensor - size: 10\n",
       "  mat : LongTensor - size: 10x10\n",
       "  averageUnionValid : 1\n",
       "  _targ_idx : LongTensor - empty\n",
       "  averageValid : 1\n",
       "  classes : \n",
       "    {\n",
       "      1 : 1\n",
       "      2 : 2\n",
       "      3 : 3\n",
       "      4 : 4\n",
       "      5 : 5\n",
       "      6 : 6\n",
       "      7 : 7\n",
       "      8 : 8\n",
       "      "
      ]
     },
     "execution_count": 18,
     "metadata": {},
     "output_type": "execute_result"
    },
    {
     "data": {
      "text/plain": [
       "9 : 9\n",
       "      10 : 10\n",
       "    }\n",
       "  _prediction : FloatTensor - size: 10\n",
       "  _pred_idx : LongTensor - size: 1\n",
       "  nclasses : 10\n",
       "  _max : FloatTensor - size: 1\n",
       "  _target : FloatTensor - empty\n",
       "  unionvalids : FloatTensor - size: 10\n",
       "  totalValid : 1\n",
       "}\n"
      ]
     },
     "execution_count": 18,
     "metadata": {},
     "output_type": "execute_result"
    },
    {
     "data": {
      "text/plain": [
       "<trainer> saving network to /home/ozan/egocentric-object/src/torch_mnist/logs/mnist.net\t\n",
       "<trainer> on testing Set:\t\n"
      ]
     },
     "execution_count": 18,
     "metadata": {},
     "output_type": "execute_result"
    },
    {
     "data": {
      "text/plain": [
       "<trainer> time to test 1 sample = 1.7840881347656ms\t\n"
      ]
     },
     "execution_count": 18,
     "metadata": {},
     "output_type": "execute_result"
    },
    {
     "data": {
      "text/plain": [
       "ConfusionMatrix:\n",
       "[[      84       0       0       0       0       1       0       0       0       0]   98.824% \t[class: 1]\n",
       " [       0     125       0       0       0       0       0       0       1       0]   99.206% \t[class: 2]\n",
       " [       2       0     109       0       0       0       2       3       0       0]   93.966% \t[class: 3]\n",
       " [       0       0       1     102       0       4       0       0       0       0]   95.327% \t[class: 4]\n",
       " [       0       1       0       0     101       0       1       0       0       7]   91.818% \t[class: 5]\n",
       " [       0       0       1       1       0      82       1       0       1       1]   94.253% \t[class: 6]\n",
       " [       2       0       0       0       1       0      84       0       0       0]   96.552% \t[class: 7]\n",
       " [       0       0       3       1       0       0       0      92       0       3]   92.929% \t[class: 8]\n",
       " [       1       0       2       2       2       0       0       0      81       1]   91.011% \t[class: 9]\n",
       " [       0       0       0       1       0       0       0       1       0      92]]  97.872% \t[class: 10]\n",
       " + average row correct: 95.175814628601% \n",
       " + average rowUcol correct (VOC measure): 90.739033222198% \n",
       " + global correct: 95.2%\n",
       "{\n",
       "  valids : FloatTensor - size: 10\n",
       "  mat : LongTensor - size: 10x10\n",
       "  averageUnionValid : 0.90739033222198\n",
       "  _targ_idx : LongTensor - empty\n",
       "  averageValid : 0.95175814628601\n",
       "  classes : "
      ]
     },
     "execution_count": 18,
     "metadata": {},
     "output_type": "execute_result"
    },
    {
     "data": {
      "text/plain": [
       "\n",
       "    {\n",
       "      1 : 1\n",
       "      2 : 2\n",
       "      3 : 3\n",
       "      4 : 4\n",
       "      5 : 5\n"
      ]
     },
     "execution_count": 18,
     "metadata": {},
     "output_type": "execute_result"
    },
    {
     "data": {
      "text/plain": [
       "      6 : 6\n",
       "      7 : 7\n",
       "      8 : 8\n",
       "      9 : 9\n",
       "      10 : 10\n",
       "    }\n",
       "  _prediction : FloatTensor - size: 10\n",
       "  _pred_idx : LongTensor - size: 1\n",
       "  nclasses : 10\n",
       "  _max : FloatTensor - size: 1\n",
       "  _target : FloatTensor - empty\n",
       "  unionvalids : FloatTensor - size: 10\n",
       "  totalValid : 0.952\n",
       "}\n"
      ]
     },
     "execution_count": 18,
     "metadata": {},
     "output_type": "execute_result"
    },
    {
     "data": {
      "text/plain": [
       "<trainer> on training set:\t\n",
       "<trainer> online epoch # 12 [batchSize = 10]\t\n"
      ]
     },
     "execution_count": 18,
     "metadata": {},
     "output_type": "execute_result"
    },
    {
     "data": {
      "text/plain": [
       "Progress: 201 / 2000\t\n"
      ]
     },
     "execution_count": 18,
     "metadata": {},
     "output_type": "execute_result"
    },
    {
     "data": {
      "text/plain": [
       "Progress: 1501 / 2000\t\n"
      ]
     },
     "execution_count": 18,
     "metadata": {},
     "output_type": "execute_result"
    },
    {
     "data": {
      "text/plain": [
       "<trainer> time to learn 1 sample = 4.1216549873352ms\t\n"
      ]
     },
     "execution_count": 18,
     "metadata": {},
     "output_type": "execute_result"
    },
    {
     "data": {
      "text/plain": [
       "ConfusionMatrix:\n",
       "[[     191       0       0       0       0       0       0       0       0       0]   100.000% \t[class: 1]\n",
       " [       0     220       0       0       0       0       0       0       0       0]   100.000% \t[class: 2]\n",
       " [       0       0     198       0       0       0       0       0       0       0]   100.000% \t[class: 3]\n",
       " [       0       0       0     191       0       0       0       0       0       0]   100.000% \t[class: 4]\n",
       " [       0       0       0       0     214       0       0       0       0       0]   100.000% \t[class: 5]\n",
       " [       0       0       0       0       0     180       0       0       0       0]   100.000% \t[class: 6]\n",
       " [       0       0       0       0       0       0     200       0       0       0]   100.000% \t[class: 7]\n",
       " [       0       0       0       0       0       0       0     224       0       0]   100.000% \t[class: 8]\n",
       " [       0       0       0       0       0       0       0       0     172       0]   100.000% \t[class: 9]\n",
       " [       0       0       0       0       0       0       0       0       0     210]]  100.000% \t[class: 10]\n",
       " + average row correct: 100% \n",
       " + average rowUcol correct (VOC measure): 100% \n",
       " + global correct: 100%\n",
       "{\n",
       "  valids : FloatTensor - size: 10\n",
       "  mat : LongTensor - size: 10x10\n",
       "  averageUnionValid : 1\n",
       "  _targ_idx : LongTensor - empty\n",
       "  averageValid : 1\n",
       "  classes : \n",
       "    {\n",
       "      1 : 1\n",
       "      2 : 2\n",
       "      3 : 3\n",
       "      4 : 4\n",
       "      5 : 5\n",
       "      6 : 6\n",
       "      7 : 7\n",
       "      8 : 8\n",
       "      9 : 9\n",
       "      10 : 10\n",
       "    }\n",
       "  _prediction : FloatTensor - size: 10\n",
       "  _pred_idx : LongTensor - size: 1\n",
       "  nclasses : 10\n",
       "  _max : FloatTensor - size: 1\n",
       "  _target : FloatTensor - empty\n",
       "  unionvalids : FloatTensor - size: 10\n",
       "  totalValid : 1\n",
       "}\n"
      ]
     },
     "execution_count": 18,
     "metadata": {},
     "output_type": "execute_result"
    },
    {
     "data": {
      "text/plain": [
       "<trainer> saving network to /home/ozan/egocentric-object/src/torch_mnist/logs/mnist.net\t\n",
       "<trainer> on testing Set:\t\n"
      ]
     },
     "execution_count": 18,
     "metadata": {},
     "output_type": "execute_result"
    },
    {
     "data": {
      "text/plain": [
       "Progress: 661 / 1000\t\n"
      ]
     },
     "execution_count": 18,
     "metadata": {},
     "output_type": "execute_result"
    },
    {
     "data": {
      "text/plain": [
       "<trainer> time to test 1 sample = 2.972913980484ms\t\n"
      ]
     },
     "execution_count": 18,
     "metadata": {},
     "output_type": "execute_result"
    },
    {
     "data": {
      "text/plain": [
       "ConfusionMatrix:\n",
       "[[      84       0       0       0       0       1       0       0       0       0]   98.824% \t[class: 1]\n",
       " [       0     125       0       0       0       0       0       0       1       0]   99.206% \t[class: 2]\n",
       " [       2       0     109       0       0       0       2       3       0       0]   93.966% \t[class: 3]\n",
       " [       0       0       1     102       0       4       0       0       0       0]   95.327% \t[class: 4]\n",
       " [       0       1       0       0     101       0       1       0       0       7]   91.818% \t[class: 5]\n",
       " [       0       0       1       1       0      82       1       0       1       1]   94.253% \t[class: 6]\n",
       " [       2       0       0       0       1       0      84       0       0       0]   96.552% \t[class: 7]\n",
       " [       0       0       2       1       0       0       0      93       0       3]   93.939% \t[class: 8]\n",
       " [       1       0       2       2       2       0       0       0      81       1]   91.011% \t[class: 9]\n",
       " [       0       0       0       1       0       0       0       1       0      92]]  97.872% \t[class: 10]\n",
       " + average row correct: 95.276824831963% \n",
       " + average rowUcol correct (VOC measure): 90.908758640289% \n",
       " + global correct: 95.3%\n",
       "{\n",
       "  valids : FloatTensor - size: 10\n",
       "  mat : LongTensor - size: 10x10\n",
       "  averageUnionValid : 0.90908758640289\n",
       "  _targ_idx : LongTensor - empty\n",
       "  averageValid : 0.95276824831963\n",
       "  classes : \n",
       "    {\n",
       "      1 : 1\n",
       "      2 : 2\n",
       "      3 : 3\n",
       "      4 : 4\n",
       "      5 : 5\n",
       "      6 : 6\n",
       "      7 : 7\n",
       "      8 : 8\n",
       " "
      ]
     },
     "execution_count": 18,
     "metadata": {},
     "output_type": "execute_result"
    },
    {
     "data": {
      "text/plain": [
       "     9 : 9\n",
       "      10 : 10\n",
       "    }\n",
       "  _prediction : FloatTensor - size: 10\n",
       "  _pred_idx : LongTensor - size: 1\n",
       "  nclasses : 10\n",
       "  "
      ]
     },
     "execution_count": 18,
     "metadata": {},
     "output_type": "execute_result"
    },
    {
     "data": {
      "text/plain": [
       "_max : FloatTensor - size: 1\n",
       "  _target : FloatTensor - empty\n",
       "  unionvalids : FloatTensor - size: 10\n",
       "  totalValid : 0.953\n",
       "}\n"
      ]
     },
     "execution_count": 18,
     "metadata": {},
     "output_type": "execute_result"
    },
    {
     "data": {
      "text/plain": [
       "<trainer> on training set:\t\n",
       "<trainer> online epoch # 13 [batchSize = 10]\t\n"
      ]
     },
     "execution_count": 18,
     "metadata": {},
     "output_type": "execute_result"
    },
    {
     "data": {
      "text/plain": [
       "Progress: 1071 / 2000\t\n"
      ]
     },
     "execution_count": 18,
     "metadata": {},
     "output_type": "execute_result"
    },
    {
     "data": {
      "text/plain": [
       "<trainer> time to learn 1 sample = 3.0096116065979ms\t\n"
      ]
     },
     "execution_count": 18,
     "metadata": {},
     "output_type": "execute_result"
    },
    {
     "data": {
      "text/plain": [
       "ConfusionMatrix:\n",
       "[[     191       0       0       0       0       0       0       0       0       0]   100.000% \t[class: 1]\n",
       " [       0     220       0       0       0       0       0       0       0       0]   100.000% \t[class: 2]\n",
       " [       0       0     198       0       0       0       0       0       0       0]   100.000% \t[class: 3]\n",
       " [       0       0       0     191       0       0       0       0       0       0]   100.000% \t[class: 4]\n",
       " [       0       0       0       0     214       0       0       0       0       0]   100.000% \t[class: 5]\n",
       " [       0       0       0       0       0     180       0       0       0       0]   100.000% \t[class: 6]\n",
       " [       0       0       0       0       0       0     200       0       0       0]   100.000% \t[class: 7]\n",
       " [       0       0       0       0       0       0       0     224       0       0]   100.000% \t[class: 8]\n",
       " [       0       0       0       0       0       0       0       0     172       0]   100.000% \t[class: 9]\n",
       " [       0       0       0       0       0       0       0       0       0     210]]  100.000% \t[class: 10]\n",
       " + average row correct: 100% \n",
       " + average rowUcol correct (VOC measure): 100% \n",
       " + global correct: 100%\n",
       "{\n",
       "  valids : FloatTensor - size: 10\n",
       "  mat : LongTensor - size: 10x10\n",
       "  averageUnionValid : 1\n",
       "  _targ_idx : LongTensor - empty\n",
       "  averageValid : 1\n",
       "  classes : \n",
       "    {\n",
       "      1 : 1\n",
       "      2 : 2\n",
       "      3 : 3\n",
       "      4 : 4\n",
       "      5 : 5\n",
       "      6 : 6\n",
       "      7 : 7\n",
       "      8 : 8\n",
       "      9 : 9\n",
       "      10 : 10\n",
       "    }\n",
       "  _prediction : FloatTensor - size: 10\n",
       "  _pred_idx : LongTensor - size: 1\n",
       "  nclasses : 10\n",
       "  _max : FloatTensor - size: 1\n",
       "  _target : FloatTensor - empty\n",
       "  unionvalids : FloatTensor - size: 10\n",
       "  totalValid : 1\n",
       "}\n"
      ]
     },
     "execution_count": 18,
     "metadata": {},
     "output_type": "execute_result"
    },
    {
     "data": {
      "text/plain": [
       "<trainer> saving network to /home/ozan/egocentric-object/src/torch_mnist/logs/mnist.net\t\n",
       "<trainer> on testing Set:\t\n"
      ]
     },
     "execution_count": 18,
     "metadata": {},
     "output_type": "execute_result"
    },
    {
     "data": {
      "text/plain": [
       "Progress: 911 / 1000\t\n"
      ]
     },
     "execution_count": 18,
     "metadata": {},
     "output_type": "execute_result"
    },
    {
     "data": {
      "text/plain": [
       "<trainer> time to test 1 sample = 1.6385409832001ms\t\n"
      ]
     },
     "execution_count": 18,
     "metadata": {},
     "output_type": "execute_result"
    },
    {
     "data": {
      "text/plain": [
       "ConfusionMatrix:\n",
       "[[      84       0       0       0       0       1       0       0       0       0]   98.824% \t[class: 1]\n",
       " [       0     125       0       0       0       0       0       0       1       0]   99.206% \t[class: 2]\n",
       " [       2       0     109       0       0       0       2       3       0       0]   93.966% \t[class: 3]\n",
       " [       0       0       1     102       0       4       0       0       0       0]   95.327% \t[class: 4]\n",
       " [       0       1       0       0     101       0       1       0       0       7]   91.818% \t[class: 5]\n",
       " [       0       0       1       1       0      82       1       0       1       1]   94.253% \t[class: 6]\n",
       " [       2       0       0       0       1       0      84       0       0       0]   96.552% \t[class: 7]\n",
       " [       0       0       2       1       0       0       0      93       0       3]   93.939% \t[class: 8]\n",
       " [       1       0       2       2       2       0       0       0      81       1]   91.011% \t[class: 9]\n",
       " [       0       0       0       1       0       0       0       1       0      92]]  97.872% \t[class: 10]\n",
       " + average row correct: 95.276824831963% \n",
       " + average rowUcol correct (VOC measure): 90.908758640289% \n",
       " + global correct: 95.3%\n",
       "{\n"
      ]
     },
     "execution_count": 18,
     "metadata": {},
     "output_type": "execute_result"
    },
    {
     "data": {
      "text/plain": [
       "  valids : FloatTensor - size: 10\n",
       "  mat : LongTensor - size: 10x10\n",
       "  averageUnionValid : 0.90908758640289\n",
       "  _targ_idx : LongTensor - empty\n",
       "  averageValid : 0.95276824831963\n",
       "  classes : \n",
       "    {\n",
       "      1 : 1\n",
       "      2 : 2\n",
       "      3 : 3\n",
       "      4 : 4\n"
      ]
     },
     "execution_count": 18,
     "metadata": {},
     "output_type": "execute_result"
    },
    {
     "data": {
      "text/plain": [
       "      5 : 5\n",
       "      6 : 6\n",
       "      7 : 7\n",
       "      8 : 8\n",
       "      9 : 9\n",
       "      10 : 10\n",
       "    }\n",
       "  _prediction : FloatTensor - size: 10\n",
       "  "
      ]
     },
     "execution_count": 18,
     "metadata": {},
     "output_type": "execute_result"
    },
    {
     "data": {
      "text/plain": [
       "_pred_idx : LongTensor - size: 1\n",
       "  nclasses : 10\n",
       "  _max : FloatTensor - size: 1\n",
       "  _target : FloatTensor - empty\n",
       "  unionvalids : FloatTensor - size: 10\n",
       "  totalValid : 0.953\n",
       "}\n"
      ]
     },
     "execution_count": 18,
     "metadata": {},
     "output_type": "execute_result"
    },
    {
     "data": {
      "text/plain": [
       "<trainer> on training set:\t\n",
       "<trainer> online epoch # 14 [batchSize = 10]\t\n"
      ]
     },
     "execution_count": 18,
     "metadata": {},
     "output_type": "execute_result"
    },
    {
     "data": {
      "text/plain": [
       "Progress: 1011 / 2000\t\n"
      ]
     },
     "execution_count": 18,
     "metadata": {},
     "output_type": "execute_result"
    },
    {
     "data": {
      "text/plain": [
       "<trainer> time to learn 1 sample = 3.8534605503082ms\t\n"
      ]
     },
     "execution_count": 18,
     "metadata": {},
     "output_type": "execute_result"
    },
    {
     "data": {
      "text/plain": [
       "ConfusionMatrix:\n",
       "[[     191       0       0       0       0       0       0       0       0       0]   100.000% \t[class: 1]\n",
       " [       0     220       0       0       0       0       0       0       0       0]   100.000% \t[class: 2]\n",
       " [       0       0     198       0       0       0       0       0       0       0]   100.000% \t[class: 3]\n",
       " [       0       0       0     191       0       0       0       0       0       0]   100.000% \t[class: 4]\n",
       " [       0       0       0       0     214       0       0       0       0       0]   100.000% \t[class: 5]\n",
       " [       0       0       0       0       0     180       0       0       0       0]   100.000% \t[class: 6]\n",
       " [       0       0       0       0       0       0     200       0       0       0]   100.000% \t[class: 7]\n",
       " [       0       0       0       0       0       0       0     224       0       0]   100.000% \t[class: 8]\n",
       " [       0       0       0       0       0       0       0       0     172       0]   100.000% \t[class: 9]\n",
       " [       0       0       0       0       0       0       0       0       0     210]]  100.000% \t[class: 10]\n",
       " + average row correct: 100% \n",
       " + average rowUcol correct (VOC measure): 100% \n",
       " + global correct: 100%\n",
       "{\n",
       "  valids : FloatTensor - size: 10\n",
       "  mat : LongTensor - size: 10x10\n",
       "  averageUnionValid : 1\n",
       "  _targ_idx : LongTensor - empty\n",
       "  averageValid : 1\n",
       "  classes : \n",
       "    {\n",
       "      1 : 1\n",
       "      2 : 2\n",
       "      3 : 3\n",
       "      4 : 4\n",
       "      5 : 5\n",
       "      6 : 6\n",
       "      7 : 7\n",
       "      8 : 8\n",
       "      9 : 9\n",
       "      10 : 10\n",
       "    }\n",
       "  _prediction : FloatTensor - size: 10\n",
       "  _pred_idx : LongTensor - size: 1\n",
       "  nclasses : 10\n",
       "  _max : FloatTensor - size: 1\n",
       "  _target : FloatTensor - empty\n",
       "  unionvalids : FloatTensor - size: 10\n",
       "  totalValid : 1\n",
       "}\n"
      ]
     },
     "execution_count": 18,
     "metadata": {},
     "output_type": "execute_result"
    },
    {
     "data": {
      "text/plain": [
       "<trainer> saving network to /home/ozan/egocentric-object/src/torch_mnist/logs/mnist.net\t\n",
       "<trainer> on testing Set:\t\n"
      ]
     },
     "execution_count": 18,
     "metadata": {},
     "output_type": "execute_result"
    },
    {
     "data": {
      "text/plain": [
       "Progress: 221 / 1000\t\n"
      ]
     },
     "execution_count": 18,
     "metadata": {},
     "output_type": "execute_result"
    },
    {
     "data": {
      "text/plain": [
       "<trainer> time to test 1 sample = 1.445494890213ms\t\n"
      ]
     },
     "execution_count": 18,
     "metadata": {},
     "output_type": "execute_result"
    },
    {
     "data": {
      "text/plain": [
       "ConfusionMatrix:\n",
       "[[      84       0       0       0       0       1       0       0       0       0]   98.824% \t[class: 1]\n",
       " [       0     126       0       0       0       0       0       0       0       0]   100.000% \t[class: 2]\n",
       " [       2       0     109       0       0       0       2       3       0       0]   93.966% \t[class: 3]\n",
       " [       0       0       1     102       0       4       0       0       0       0]   95.327% \t[class: 4]\n",
       " [       0       1       0       0     101       0       1       0       0       7]   91.818% \t[class: 5]\n",
       " [       0       0       1       1       0      83       1       0       1       0]   95.402% \t[class: 6]\n",
       " [       2       0       0       0       1       0      84       0       0       0]   96.552% \t[class: 7]\n",
       " [       0       0       2       1       0       0       0      93       0       3]   93.939% \t[class: 8]\n",
       " [       1       0       2       2       2       0       0       0      81       1]   91.011% \t[class: 9]\n",
       " [       0       0       0       1       0       0       0       1       0      92]]  97.872% \t[class: 10]\n",
       " + average row correct: 95.471132993698% \n",
       " + average rowUcol correct (VOC measure): 91.27775490284% \n",
       " + global correct: 95.5%\n",
       "{\n",
       "  valids : FloatTensor - size: 10\n",
       "  mat : LongTensor - size: 10x10\n",
       "  averageUnionValid : 0.9127775490284\n",
       "  _targ_idx : LongTensor - empty\n",
       "  averageValid : 0.95471132993698\n",
       "  classes : \n",
       "    {\n",
       "      1 : 1\n",
       "      2 : 2\n",
       "      3 : 3\n"
      ]
     },
     "execution_count": 18,
     "metadata": {},
     "output_type": "execute_result"
    },
    {
     "data": {
      "text/plain": [
       "      4 : 4\n",
       "      5 : 5\n",
       "      6 : 6\n",
       "      7 : 7\n",
       "      8 : 8\n",
       "      9 : 9\n",
       "      10 : 10\n",
       "    }\n",
       "  _prediction : FloatTensor - size: 10\n",
       "  _pred_idx : LongTensor - size: 1\n",
       "  nclasses : 10\n",
       "  _max : FloatTensor - size: 1\n",
       "  _target : FloatTensor - empty\n",
       "  unionvalids : FloatTensor - size: 10\n",
       "  totalValid : 0.955\n",
       "}\n"
      ]
     },
     "execution_count": 18,
     "metadata": {},
     "output_type": "execute_result"
    },
    {
     "data": {
      "text/plain": [
       "<trainer> on training set:\t\n",
       "<trainer> online epoch # 15 [batchSize = 10]\t\n"
      ]
     },
     "execution_count": 18,
     "metadata": {},
     "output_type": "execute_result"
    },
    {
     "data": {
      "text/plain": [
       "Progress: 1061 / 2000\t\n"
      ]
     },
     "execution_count": 18,
     "metadata": {},
     "output_type": "execute_result"
    },
    {
     "data": {
      "text/plain": [
       "<trainer> time to learn 1 sample = 3.3576655387878ms\t\n"
      ]
     },
     "execution_count": 18,
     "metadata": {},
     "output_type": "execute_result"
    },
    {
     "data": {
      "text/plain": [
       "ConfusionMatrix:\n",
       "[[     191       0       0       0       0       0       0       0       0       0]   100.000% \t[class: 1]\n",
       " [       0     220       0       0       0       0       0       0       0       0]   100.000% \t[class: 2]\n",
       " [       0       0     198       0       0       0       0       0       0       0]   100.000% \t[class: 3]\n",
       " [       0       0       0     191       0       0       0       0       0       0]   100.000% \t[class: 4]\n",
       " [       0       0       0       0     214       0       0       0       0       0]   100.000% \t[class: 5]\n",
       " [       0       0       0       0       0     180       0       0       0       0]   100.000% \t[class: 6]\n",
       " [       0       0       0       0       0       0     200       0       0       0]   100.000% \t[class: 7]\n",
       " [       0       0       0       0       0       0       0     224       0       0]   100.000% \t[class: 8]\n",
       " [       0       0       0       0       0       0       0       0     172       0]   100.000% \t[class: 9]\n",
       " [       0       0       0       0       0       0       0       0       0     210]]  100.000% \t[class: 10]\n",
       " + average row correct: 100% \n",
       " + average rowUcol correct (VOC measure): 100% \n",
       " + global correct: 100%\n",
       "{\n"
      ]
     },
     "execution_count": 18,
     "metadata": {},
     "output_type": "execute_result"
    },
    {
     "data": {
      "text/plain": [
       "  valids : FloatTensor - size: 10\n",
       "  mat : LongTensor - size: 10x10\n",
       "  averageUnionValid : 1\n",
       "  _targ_idx : LongTensor - empty\n",
       "  averageValid : 1\n",
       "  classes : \n",
       "    {\n",
       "      1 : 1\n",
       "      2 : 2\n",
       "      3 : 3\n",
       "      4 : 4\n",
       "      5 : 5\n",
       "      6 : 6\n",
       "      7 : 7\n",
       "      8 : 8\n",
       "      9 : 9\n",
       "      10 : 10\n",
       "    }\n",
       "  _prediction : FloatTensor - size: 10\n",
       "  _pred_idx : LongTensor - size: 1\n",
       "  nclasses : 10\n"
      ]
     },
     "execution_count": 18,
     "metadata": {},
     "output_type": "execute_result"
    },
    {
     "data": {
      "text/plain": [
       "  _max : FloatTensor - size: 1\n",
       "  _target : FloatTensor - empty\n",
       "  unionvalids : FloatTensor - size: 10\n",
       "  totalValid : 1\n",
       "}\n"
      ]
     },
     "execution_count": 18,
     "metadata": {},
     "output_type": "execute_result"
    },
    {
     "data": {
      "text/plain": [
       "<trainer> saving network to /home/ozan/egocentric-object/src/torch_mnist/logs/mnist.net\t\n",
       "<trainer> on testing Set:\t\n"
      ]
     },
     "execution_count": 18,
     "metadata": {},
     "output_type": "execute_result"
    },
    {
     "data": {
      "text/plain": [
       "Progress: 51 / 1000\t\n"
      ]
     },
     "execution_count": 18,
     "metadata": {},
     "output_type": "execute_result"
    },
    {
     "data": {
      "text/plain": [
       "<trainer> time to test 1 sample = 1.6223840713501ms\t\n",
       "ConfusionMatrix:\n",
       "[[      84       0       0       0       0       1       0       0       0       0]   98.824% \t[class: 1]\n",
       " [       0     126       0       0       0       0       0       0       0       0]   100.000% \t[class: 2]\n",
       " [       2       0     109       0       0       0       2       3       0       0]   93.966% \t[class: 3]\n",
       " [       0       0       1     102       0       4       0       0       0       0]   95.327% \t[class: 4]\n",
       " [       0       1       0       0     101       0       1       0       0       7]   91.818% \t[class: 5]\n",
       " [       0       0       1       1       0      83       1       0       1       0]   95.402% \t[class: 6]\n",
       " [       2       0       0       0       1       0      84       0       0       0]   96.552% \t[class: 7]\n",
       " [       0       0       2       1       0       0       0      93       0       3]   93.939% \t[class: 8]\n",
       " [       1       0       2       2       2       0       0       0      81       1]   91.011% \t[class: 9]\n",
       " [       0       0       0       1       0       0       0       1       0      92]]  97.872% \t[class: 10]\n",
       " + average row correct: 95.471132993698% \n",
       " + average rowUcol correct (VOC measure): 91.27775490284% \n",
       " + global correct: 95.5%\n",
       "{\n",
       "  valids : FloatTensor - size: 10\n",
       "  mat : LongTensor - size: 10x10\n",
       "  averageUnionValid : 0.9127775490284\n",
       "  _targ_idx : LongTensor - empty\n",
       "  averageValid : 0.95471132993698\n",
       "  classes : \n",
       "    "
      ]
     },
     "execution_count": 18,
     "metadata": {},
     "output_type": "execute_result"
    },
    {
     "data": {
      "text/plain": [
       "{\n",
       "      1 : 1\n",
       "      2 : 2\n",
       "      3 : 3\n",
       "      4 : 4\n",
       "      5 : 5\n",
       "      6 : 6\n",
       "      7 : 7\n",
       "      8 : 8\n",
       "      9 : 9\n",
       "      10 : 10\n",
       "    }\n",
       "  _prediction : FloatTensor - size: 10\n",
       "  _pred_idx : LongTensor - size: 1\n",
       "  nclasses : 10\n",
       "  _max : FloatTensor - size: 1\n",
       "  _target : FloatTensor - empty\n",
       "  unionvalids : FloatTensor - size: 10\n",
       "  totalValid : 0.955\n",
       "}\n"
      ]
     },
     "execution_count": 18,
     "metadata": {},
     "output_type": "execute_result"
    },
    {
     "data": {
      "text/plain": [
       "<trainer> on training set:\t\n",
       "<trainer> online epoch # 16 [batchSize = 10]\t\n"
      ]
     },
     "execution_count": 18,
     "metadata": {},
     "output_type": "execute_result"
    },
    {
     "data": {
      "text/plain": [
       "Progress: 1061 / 2000\t\n"
      ]
     },
     "execution_count": 18,
     "metadata": {},
     "output_type": "execute_result"
    },
    {
     "data": {
      "text/plain": [
       "<trainer> time to learn 1 sample = 3.2020465135574ms\t\n"
      ]
     },
     "execution_count": 18,
     "metadata": {},
     "output_type": "execute_result"
    },
    {
     "data": {
      "text/plain": [
       "ConfusionMatrix:\n",
       "[[     191       0       0       0       0       0       0       0       0       0]   100.000% \t[class: 1]\n",
       " [       0     220       0       0       0       0       0       0       0       0]   100.000% \t[class: 2]\n",
       " [       0       0     198       0       0       0       0       0       0       0]   100.000% \t[class: 3]\n",
       " [       0       0       0     191       0       0       0       0       0       0]   100.000% \t[class: 4]\n",
       " [       0       0       0       0     214       0       0       0       0       0]   100.000% \t[class: 5]\n",
       " [       0       0       0       0       0     180       0       0       0       0]   100.000% \t[class: 6]\n",
       " [       0       0       0       0       0       0     200       0       0       0]   100.000% \t[class: 7]\n",
       " [       0       0       0       0       0       0       0     224       0       0]   100.000% \t[class: 8]\n",
       " [       0       0       0       0       0       0       0       0     172       0]   100.000% \t[class: 9]\n",
       " [       0       0       0       0       0       0       0       0       0     210]]  100.000% \t[class: 10]\n",
       " + average row correct: 100% \n",
       " + average rowUcol correct (VOC measure): 100% \n",
       " + global correct: 100%\n",
       "{\n",
       "  valids : FloatTensor - size: 10\n",
       "  mat : LongTensor - size: 10x10\n",
       "  averageUnionValid : 1\n",
       "  _targ_idx : LongTensor - empty\n",
       "  averageValid : 1\n",
       "  classes : \n",
       "    {\n",
       "      1 : 1"
      ]
     },
     "execution_count": 18,
     "metadata": {},
     "output_type": "execute_result"
    },
    {
     "data": {
      "text/plain": [
       "\n",
       "      2 : 2\n",
       "      3 : 3\n",
       "      4 : 4\n",
       "      5 : 5\n",
       "      6 : 6\n",
       "      7 : 7\n",
       "      8 : 8\n",
       "      9 : 9\n",
       "      10 : 10\n",
       "    }\n",
       "  _prediction : FloatTensor - size: 10\n",
       "  _pred_idx : LongTensor - size: 1\n",
       "  nclasses : 10\n",
       "  _max : FloatTensor - size: 1\n",
       "  _target : FloatTensor - empty\n",
       "  unionvalids : FloatTensor - size: 10\n",
       "  totalValid : 1\n",
       "}\n"
      ]
     },
     "execution_count": 18,
     "metadata": {},
     "output_type": "execute_result"
    },
    {
     "data": {
      "text/plain": [
       "<trainer> saving network to /home/ozan/egocentric-object/src/torch_mnist/logs/mnist.net\t\n",
       "<trainer> on testing Set:\t\n"
      ]
     },
     "execution_count": 18,
     "metadata": {},
     "output_type": "execute_result"
    },
    {
     "data": {
      "text/plain": [
       "Progress: 61 / 1000\t\n"
      ]
     },
     "execution_count": 18,
     "metadata": {},
     "output_type": "execute_result"
    },
    {
     "data": {
      "text/plain": [
       "<trainer> time to test 1 sample = 1.7856199741364ms\t\n"
      ]
     },
     "execution_count": 18,
     "metadata": {},
     "output_type": "execute_result"
    },
    {
     "data": {
      "text/plain": [
       "ConfusionMatrix:\n",
       "[[      84       0       0       0       0       1       0       0       0       0]   98.824% \t[class: 1]\n",
       " [       0     126       0       0       0       0       0       0       0       0]   100.000% \t[class: 2]\n",
       " [       2       0     109       0       0       0       2       3       0       0]   93.966% \t[class: 3]\n",
       " [       0       0       1     102       0       4       0       0       0       0]   95.327% \t[class: 4]\n",
       " [       0       1       0       0     101       0       1       0       0       7]   91.818% \t[class: 5]\n",
       " [       0       0       1       1       0      83       1       0       1       0]   95.402% \t[class: 6]\n",
       " [       2       0       0       0       1       0      84       0       0       0]   96.552% \t[class: 7]\n",
       " [       0       0       2       1       0       0       0      93       0       3]   93.939% \t[class: 8]\n",
       " [       1       0       2       2       2       0       0       0      81       1]   91.011% \t[class: 9]\n",
       " [       0       0       0       1       0       0       0       1       0      92]]  97.872% \t[class: 10]\n",
       " + average row correct: 95.471132993698% \n",
       " + average rowUcol correct (VOC measure): 91.27775490284% \n",
       " + global correct: 95.5%\n",
       "{\n",
       "  "
      ]
     },
     "execution_count": 18,
     "metadata": {},
     "output_type": "execute_result"
    },
    {
     "data": {
      "text/plain": [
       "valids : FloatTensor - size: 10\n",
       "  mat : LongTensor - size: 10x10\n",
       "  averageUnionValid : 0.9127775490284\n",
       "  _targ_idx : LongTensor - empty\n",
       "  averageValid : 0.95471132993698\n",
       "  classes : \n",
       "    {\n",
       "      1 : 1\n",
       "      2 : 2\n",
       "      3 : 3\n",
       "      4 : 4\n",
       "      5 : 5\n",
       "      6 : 6\n",
       "      7 : 7\n",
       "      8 : 8\n",
       "      9 : 9\n",
       "      10 : 10\n",
       "    }\n",
       "  _prediction : FloatTensor - size: 10\n",
       "  _pred_idx : LongTensor - size: 1\n",
       "  nclasses : 10\n",
       "  _max : FloatTensor - size: 1\n",
       "  _target : FloatTensor - empty\n",
       "  unionvalids : FloatTensor - size: 10\n",
       "  totalValid : 0.955\n",
       "}\n"
      ]
     },
     "execution_count": 18,
     "metadata": {},
     "output_type": "execute_result"
    },
    {
     "data": {
      "text/plain": [
       "<trainer> on training set:\t\n",
       "<trainer> online epoch # 17 [batchSize = 10]\t\n"
      ]
     },
     "execution_count": 18,
     "metadata": {},
     "output_type": "execute_result"
    },
    {
     "data": {
      "text/plain": [
       "Progress: 791 / 2000\t\n"
      ]
     },
     "execution_count": 18,
     "metadata": {},
     "output_type": "execute_result"
    },
    {
     "data": {
      "text/plain": [
       "Progress: 1631 / 2000\t\n"
      ]
     },
     "execution_count": 18,
     "metadata": {},
     "output_type": "execute_result"
    },
    {
     "data": {
      "text/plain": [
       "<trainer> time to learn 1 sample = 3.8292169570923ms\t\n"
      ]
     },
     "execution_count": 18,
     "metadata": {},
     "output_type": "execute_result"
    },
    {
     "data": {
      "text/plain": [
       "ConfusionMatrix:\n",
       "[[     191       0       0       0       0       0       0       0       0       0]   100.000% \t[class: 1]\n",
       " [       0     220       0       0       0       0       0       0       0       0]   100.000% \t[class: 2]\n",
       " [       0       0     198       0       0       0       0       0       0       0]   100.000% \t[class: 3]\n",
       " [       0       0       0     191       0       0       0       0       0       0]   100.000% \t[class: 4]\n",
       " [       0       0       0       0     214       0       0       0       0       0]   100.000% \t[class: 5]\n",
       " [       0       0       0       0       0     180       0       0       0       0]   100.000% \t[class: 6]\n",
       " [       0       0       0       0       0       0     200       0       0       0]   100.000% \t[class: 7]\n",
       " [       0       0       0       0       0       0       0     224       0       0]   100.000% \t[class: 8]\n",
       " [       0       0       0       0       0       0       0       0     172       0]   100.000% \t[class: 9]\n",
       " [       0       0       0       0       0       0       0       0       0     210]]  100.000% \t[class: 10]\n",
       " + average row correct: 100% \n",
       " + average rowUcol correct (VOC measure): 100% \n",
       " + global correct: 100%\n",
       "{\n",
       "  valids : FloatTensor - size: 10\n",
       "  mat : LongTensor - size: 10x10\n",
       "  averageUnionValid : 1\n",
       "  _targ_idx : LongTensor - empty\n",
       "  averageValid : 1\n",
       "  classes : \n",
       "    {\n",
       "      1 : 1\n",
       "      2 : 2\n",
       "      3 : 3\n",
       "      4 : 4\n",
       "      5 : 5\n",
       "     "
      ]
     },
     "execution_count": 18,
     "metadata": {},
     "output_type": "execute_result"
    },
    {
     "data": {
      "text/plain": [
       " 6 : 6\n",
       "      7 : 7\n",
       "      8 : 8\n",
       "      9 : 9\n",
       "      10 : 10\n",
       "    }\n",
       "  _prediction : FloatTensor - size: 10\n",
       "  _pred_idx : LongTensor - size: 1\n",
       "  nclasses : 10\n",
       "  _max : FloatTensor - size: 1\n",
       "  _target : FloatTensor - empty\n",
       "  unionvalids : FloatTensor - size: 10\n",
       "  totalValid : 1\n",
       "}\n"
      ]
     },
     "execution_count": 18,
     "metadata": {},
     "output_type": "execute_result"
    },
    {
     "data": {
      "text/plain": [
       "<trainer> saving network to /home/ozan/egocentric-object/src/torch_mnist/logs/mnist.net\t\n",
       "<trainer> on testing Set:\t\n"
      ]
     },
     "execution_count": 18,
     "metadata": {},
     "output_type": "execute_result"
    },
    {
     "data": {
      "text/plain": [
       "<trainer> time to test 1 sample = 1.4619159698486ms\t\n",
       "ConfusionMatrix:\n",
       "[[      84       0       0       0       0       1       0       0       0       0]   98.824% \t[class: 1]\n",
       " [       0     126       0       0       0       0       0       0       0       0]   100.000% \t[class: 2]\n",
       " [       2       0     109       0       0       0       2       3       0       0]   93.966% \t[class: 3]\n",
       " [       0       0       1     102       0       4       0       0       0       0]   95.327% \t[class: 4]\n",
       " [       0       1       0       0     101       0       1       0       0       7]   91.818% \t[class: 5]\n",
       " [       0       0       1       1       0      83       1       0       1       0]   95.402% \t[class: 6]\n",
       " [       2       0       0       0       1       0      84       0       0       0]   96.552% \t[class: 7]\n",
       " [       0       0       2       1       0       0       0      93       0       3]   93.939% \t[class: 8]\n",
       " [       1       0       2       2       2       0       0       0      81       1]   91.011% \t[class: 9]\n",
       " [       0       0       0       1       0       0       0       1       0      92]]  97.872% \t[class: 10]\n",
       " + average row correct: 95.471132993698% \n",
       " + average rowUcol correct (VOC measure): 91.27775490284% \n",
       " + global correct: 95.5%"
      ]
     },
     "execution_count": 18,
     "metadata": {},
     "output_type": "execute_result"
    },
    {
     "data": {
      "text/plain": [
       "\n",
       "{\n",
       "  valids : FloatTensor - size: 10\n",
       "  mat : LongTensor - size: 10x10\n",
       "  averageUnionValid : 0.9127775490284\n",
       "  _targ_idx : LongTensor - empty\n",
       "  averageValid : 0.95471132993698\n",
       "  classes : \n",
       "    {\n",
       "      1 : 1\n",
       "      2 : 2\n",
       "      3 : 3\n",
       "      4 : 4\n",
       "      5 : 5\n",
       "      6 : 6\n",
       "      7 : 7\n",
       "      8 : 8\n",
       "      9 : 9\n",
       "      10 : 10\n",
       "    }\n",
       "  _prediction : FloatTensor - size: 10\n",
       "  _pred_idx : LongTensor - size: 1\n",
       "  nclasses : 10\n",
       "  _max : FloatTensor - size: 1\n",
       "  _target : FloatTensor - empty\n",
       "  unionvalids : FloatTensor - size: 10\n",
       "  totalValid : 0.955\n",
       "}\n"
      ]
     },
     "execution_count": 18,
     "metadata": {},
     "output_type": "execute_result"
    },
    {
     "data": {
      "text/plain": [
       "<trainer> on training set:\t\n",
       "<trainer> online epoch # 18 [batchSize = 10]\t\n"
      ]
     },
     "execution_count": 18,
     "metadata": {},
     "output_type": "execute_result"
    },
    {
     "data": {
      "text/plain": [
       "Progress: 651 / 2000\t\n"
      ]
     },
     "execution_count": 18,
     "metadata": {},
     "output_type": "execute_result"
    },
    {
     "data": {
      "text/plain": [
       "<trainer> time to learn 1 sample = 2.563264966011ms\t\n"
      ]
     },
     "execution_count": 18,
     "metadata": {},
     "output_type": "execute_result"
    },
    {
     "data": {
      "text/plain": [
       "ConfusionMatrix:\n",
       "[[     191       0       0       0       0       0       0       0       0       0]   100.000% \t[class: 1]\n",
       " [       0     220       0       0       0       0       0       0       0       0]   100.000% \t[class: 2]\n",
       " [       0       0     198       0       0       0       0       0       0       0]   100.000% \t[class: 3]\n",
       " [       0       0       0     191       0       0       0       0       0       0]   100.000% \t[class: 4]\n",
       " [       0       0       0       0     214       0       0       0       0       0]   100.000% \t[class: 5]\n",
       " [       0       0       0       0       0     180       0       0       0       0]   100.000% \t[class: 6]\n",
       " [       0       0       0       0       0       0     200       0       0       0]   100.000% \t[class: 7]\n",
       " [       0       0       0       0       0       0       0     224       0       0]   100.000% \t[class: 8]\n",
       " [       0       0       0       0       0       0       0       0     172       0]   100.000% \t[class: 9]\n",
       " [       0       0       0       0       0       0       0       0       0     210]]  100.000% \t[class: 10]\n",
       " + average row correct: 100% \n",
       " + average rowUcol correct (VOC measure): 100% \n",
       " + global correct: 100%\n",
       "{\n",
       "  valids : FloatTensor - size: 10\n",
       "  mat : LongTensor - size: 10x10\n",
       "  averageUnionValid : 1\n",
       "  _targ_idx : LongTensor - empty\n",
       "  averageValid : 1\n",
       "  classes : \n",
       "    {\n",
       "      1 : 1\n",
       "      2 : 2\n",
       "      3 : 3\n",
       "      4 : 4\n",
       "      5 : 5\n",
       "      6 : 6\n",
       "      7 : 7\n",
       "      8 : 8\n",
       "      9 : 9\n",
       "      10 : 10\n",
       "    }\n",
       "  _prediction : FloatTensor - size: 10\n",
       "  _pred_idx : LongTensor - size: 1\n",
       "  nclasses : 10\n",
       "  _max : FloatTensor - size: 1\n",
       "  _target : FloatTensor - empty\n",
       "  unionvalids : FloatTensor - size: 10\n",
       "  totalValid : 1\n",
       "}\n"
      ]
     },
     "execution_count": 18,
     "metadata": {},
     "output_type": "execute_result"
    },
    {
     "data": {
      "text/plain": [
       "<trainer> saving network to /home/ozan/egocentric-object/src/torch_mnist/logs/mnist.net\t\n",
       "<trainer> on testing Set:\t\n"
      ]
     },
     "execution_count": 18,
     "metadata": {},
     "output_type": "execute_result"
    },
    {
     "data": {
      "text/plain": [
       "Progress: 241 / 1000\t\n"
      ]
     },
     "execution_count": 18,
     "metadata": {},
     "output_type": "execute_result"
    },
    {
     "data": {
      "text/plain": [
       "<trainer> time to test 1 sample = 1.4454221725464ms\t\n"
      ]
     },
     "execution_count": 18,
     "metadata": {},
     "output_type": "execute_result"
    },
    {
     "data": {
      "text/plain": [
       "ConfusionMatrix:\n",
       "[[      84       0       0       0       0       1       0       0       0       0]   98.824% \t[class: 1]\n",
       " [       0     126       0       0       0       0       0       0       0       0]   100.000% \t[class: 2]\n",
       " [       2       0     109       0       0       0       2       3       0       0]   93.966% \t[class: 3]\n",
       " [       0       0       1     102       0       4       0       0       0       0]   95.327% \t[class: 4]\n",
       " [       0       1       0       0     101       0       1       0       0       7]   91.818% \t[class: 5]\n",
       " [       0       0       1       1       0      83       1       0       1       0]   95.402% \t[class: 6]\n",
       " [       2       0       0       0       1       0      84       0       0       0]   96.552% \t[class: 7]\n",
       " [       0       0       2       1       0       0       0      93       0       3]   93.939% \t[class: 8]\n",
       " [       1       0       2       2       2       0       0       0      81       1]   91.011% \t[class: 9]\n",
       " [       0       0       0       1       0       0       0       1       0      92]]  97.872% \t[class: 10]\n",
       " + average row correct: 95.471132993698% \n",
       " + average rowUcol correct (VOC measure): 91.27775490284% \n",
       " + global correct: 95.5%\n",
       "{\n"
      ]
     },
     "execution_count": 18,
     "metadata": {},
     "output_type": "execute_result"
    },
    {
     "data": {
      "text/plain": [
       "  valids : FloatTensor - size: 10\n",
       "  mat : LongTensor - size: 10x10\n",
       "  averageUnionValid : 0.9127775490284\n",
       "  _targ_idx : LongTensor - empty\n",
       "  averageValid : 0.95471132993698\n",
       "  classes : \n",
       "    {\n",
       "      1 : 1\n",
       "      2 : 2\n",
       "      3 : 3\n",
       "      4 : 4\n",
       "      5 : 5\n",
       "      6 : 6\n",
       "      7 : 7\n",
       "      8 : 8\n",
       "      9 : 9\n",
       "      10 : 10\n",
       "    }\n",
       "  _prediction : FloatTensor - size: 10\n",
       "  _pred_idx : LongTensor - size: 1\n",
       "  nclasses : 10\n",
       "  _max : FloatTensor - size: 1\n",
       "  _target : FloatTensor - empty\n",
       "  unionvalids : FloatTensor - size: 10\n",
       "  totalValid : 0.955\n",
       "}\n"
      ]
     },
     "execution_count": 18,
     "metadata": {},
     "output_type": "execute_result"
    },
    {
     "data": {
      "text/plain": [
       "<trainer> on training set:\t\n",
       "<trainer> online epoch # 19 [batchSize = 10]\t\n"
      ]
     },
     "execution_count": 18,
     "metadata": {},
     "output_type": "execute_result"
    },
    {
     "data": {
      "text/plain": [
       "Progress: 1141 / 2000\t\n"
      ]
     },
     "execution_count": 18,
     "metadata": {},
     "output_type": "execute_result"
    },
    {
     "data": {
      "text/plain": [
       "<trainer> time to learn 1 sample = 2.6406860351562ms\t\n"
      ]
     },
     "execution_count": 18,
     "metadata": {},
     "output_type": "execute_result"
    },
    {
     "data": {
      "text/plain": [
       "ConfusionMatrix:\n",
       "[[     191       0       0       0       0       0       0       0       0       0]   100.000% \t[class: 1]\n",
       " [       0     220       0       0       0       0       0       0       0       0]   100.000% \t[class: 2]\n",
       " [       0       0     198       0       0       0       0       0       0       0]   100.000% \t[class: 3]\n",
       " [       0       0       0     191       0       0       0       0       0       0]   100.000% \t[class: 4]\n",
       " [       0       0       0       0     214       0       0       0       0       0]   100.000% \t[class: 5]\n",
       " [       0       0       0       0       0     180       0       0       0       0]   100.000% \t[class: 6]\n",
       " [       0       0       0       0       0       0     200       0       0       0]   100.000% \t[class: 7]\n",
       " [       0       0       0       0       0       0       0     224       0       0]   100.000% \t[class: 8]\n",
       " [       0       0       0       0       0       0       0       0     172       0]   100.000% \t[class: 9]\n",
       " [       0       0       0       0       0       0       0       0       0     210]]  100.000% \t[class: 10]\n",
       " + average row correct: 100% \n",
       " + average rowUcol correct (VOC measure): 100% \n",
       " + global correct: 100%\n",
       "{\n",
       "  valids : FloatTensor - size: 10\n",
       "  mat : LongTensor - size: 10x10\n",
       "  averageUnionValid : 1\n",
       "  _targ_idx : LongTensor - empty\n",
       "  averageValid : 1\n",
       "  classes : \n",
       "    {\n",
       "      1 : 1\n",
       "      2 : 2\n",
       "      3 : 3\n",
       "      4 : 4\n",
       "      5 : 5\n",
       "      6 : 6\n",
       "      7 : 7\n",
       "      8 : 8"
      ]
     },
     "execution_count": 18,
     "metadata": {},
     "output_type": "execute_result"
    },
    {
     "data": {
      "text/plain": [
       "\n",
       "      9 : 9\n",
       "      10 : 10\n",
       "    }\n",
       "  _prediction : FloatTensor - size: 10\n",
       "  _pred_idx : LongTensor - size: 1\n",
       "  nclasses : 10\n",
       "  _max : FloatTensor - size: 1\n",
       "  _target : FloatTensor - empty\n",
       "  "
      ]
     },
     "execution_count": 18,
     "metadata": {},
     "output_type": "execute_result"
    },
    {
     "data": {
      "text/plain": [
       "unionvalids : FloatTensor - size: 10\n",
       "  totalValid : 1\n",
       "}\n"
      ]
     },
     "execution_count": 18,
     "metadata": {},
     "output_type": "execute_result"
    },
    {
     "data": {
      "text/plain": [
       "<trainer> saving network to /home/ozan/egocentric-object/src/torch_mnist/logs/mnist.net\t\n",
       "<trainer> on testing Set:\t\n"
      ]
     },
     "execution_count": 18,
     "metadata": {},
     "output_type": "execute_result"
    },
    {
     "data": {
      "text/plain": [
       "Progress: 691 / 1000\t\n"
      ]
     },
     "execution_count": 18,
     "metadata": {},
     "output_type": "execute_result"
    },
    {
     "data": {
      "text/plain": [
       "<trainer> time to test 1 sample = 3.377466917038ms\t\n"
      ]
     },
     "execution_count": 18,
     "metadata": {},
     "output_type": "execute_result"
    },
    {
     "data": {
      "text/plain": [
       "ConfusionMatrix:\n",
       "[[      84       0       0       0       0       1       0       0       0       0]   98.824% \t[class: 1]\n",
       " [       0     126       0       0       0       0       0       0       0       0]   100.000% \t[class: 2]\n",
       " [       2       0     109       0       0       0       2       3       0       0]   93.966% \t[class: 3]\n",
       " [       0       0       1     102       0       4       0       0       0       0]   95.327% \t[class: 4]\n",
       " [       0       1       0       0     101       0       1       0       0       7]   91.818% \t[class: 5]\n",
       " [       0       0       1       1       0      83       1       0       1       0]   95.402% \t[class: 6]\n",
       " [       2       0       0       0       1       0      84       0       0       0]   96.552% \t[class: 7]\n",
       " [       0       0       2       1       0       0       0      93       0       3]   93.939% \t[class: 8]\n",
       " [       1       0       2       2       2       0       0       0      81       1]   91.011% \t[class: 9]\n",
       " [       0       0       0       1       0       0       0       1       0      92]]  97.872% \t[class: 10]\n",
       " + average row correct: 95.471132993698% \n",
       " + average rowUcol correct (VOC measure): 91.27775490284% \n",
       " + global correct: 95.5%\n",
       "{\n",
       "  valids : FloatTensor - size: 10\n",
       "  mat : LongTensor - size: 10x10\n",
       "  averageUnionValid : 0.9127775490284\n",
       "  _targ_idx : LongTensor - empty\n",
       "  averageValid : 0.95471132993698\n",
       "  classes : \n",
       "    "
      ]
     },
     "execution_count": 18,
     "metadata": {},
     "output_type": "execute_result"
    },
    {
     "data": {
      "text/plain": [
       "{\n",
       "      1 : 1\n",
       "      2 : 2\n",
       "      3 : 3\n",
       "      4 : 4\n",
       "      5 : 5\n",
       "      6 : 6\n",
       "      7 : 7\n",
       "      8 : 8\n",
       "      9 : 9\n",
       "    "
      ]
     },
     "execution_count": 18,
     "metadata": {},
     "output_type": "execute_result"
    },
    {
     "data": {
      "text/plain": [
       "  10 : 10\n",
       "    }\n",
       "  _prediction : FloatTensor - size: 10\n",
       "  _pred_idx : LongTensor - size: 1\n"
      ]
     },
     "execution_count": 18,
     "metadata": {},
     "output_type": "execute_result"
    },
    {
     "data": {
      "text/plain": [
       "  nclasses : 10\n",
       "  _max : FloatTensor - size: 1\n",
       "  _target : FloatTensor - empty\n",
       "  unionvalids : FloatTensor - size: 10\n",
       "  totalValid : 0.955\n",
       "}\n"
      ]
     },
     "execution_count": 18,
     "metadata": {},
     "output_type": "execute_result"
    },
    {
     "data": {
      "text/plain": [
       "<trainer> on training set:\t"
      ]
     },
     "execution_count": 18,
     "metadata": {},
     "output_type": "execute_result"
    },
    {
     "data": {
      "text/plain": [
       "\n",
       "<trainer> online epoch # 20 [batchSize = 10]\t\n"
      ]
     },
     "execution_count": 18,
     "metadata": {},
     "output_type": "execute_result"
    },
    {
     "data": {
      "text/plain": [
       "Progress: 931 / 2000\t\n"
      ]
     },
     "execution_count": 18,
     "metadata": {},
     "output_type": "execute_result"
    },
    {
     "data": {
      "text/plain": [
       "<trainer> time to learn 1 sample = 2.709620475769ms\t\n"
      ]
     },
     "execution_count": 18,
     "metadata": {},
     "output_type": "execute_result"
    },
    {
     "data": {
      "text/plain": [
       "ConfusionMatrix:\n",
       "[[     191       0       0       0       0       0       0       0       0       0]   100.000% \t[class: 1]\n",
       " [       0     220       0       0       0       0       0       0       0       0]   100.000% \t[class: 2]\n",
       " [       0       0     198       0       0       0       0       0       0       0]   100.000% \t[class: 3]\n",
       " [       0       0       0     191       0       0       0       0       0       0]   100.000% \t[class: 4]\n",
       " [       0       0       0       0     214       0       0       0       0       0]   100.000% \t[class: 5]\n",
       " [       0       0       0       0       0     180       0       0       0       0]   100.000% \t[class: 6]\n",
       " [       0       0       0       0       0       0     200       0       0       0]   100.000% \t[class: 7]\n",
       " [       0       0       0       0       0       0       0     224       0       0]   100.000% \t[class: 8]\n",
       " [       0       0       0       0       0       0       0       0     172       0]   100.000% \t[class: 9]\n",
       " [       0       0       0       0       0       0       0       0       0     210]]  100.000% \t[class: 10]\n",
       " + average row correct: 100% \n",
       " + average rowUcol correct (VOC measure): 100% \n",
       " + global correct: 100%\n",
       "{\n",
       "  valids : FloatTensor - size: 10\n",
       "  mat : LongTensor - size: 10x10\n",
       "  averageUnionValid : 1\n",
       "  _targ_idx : LongTensor - empty\n",
       "  averageValid : 1\n",
       "  classes : \n",
       "    {\n",
       "      1 : 1\n",
       "      2 : 2\n",
       "      3 : 3\n",
       "      4 : 4\n",
       "      5 : 5\n",
       "      6 : 6\n",
       "      7 : 7\n",
       "      8 : 8\n",
       "      9 : 9\n",
       "      10 : 10\n",
       "    }\n",
       "  _prediction : FloatTensor - size: 10\n",
       "  _pred_idx : LongTensor - size: 1\n",
       "  nclasses : 10\n",
       "  _max : FloatTensor - size: 1\n",
       "  _target : FloatTensor - empty\n"
      ]
     },
     "execution_count": 18,
     "metadata": {},
     "output_type": "execute_result"
    },
    {
     "data": {
      "text/plain": [
       "  unionvalids : FloatTensor - size: 10\n",
       "  totalValid : 1\n",
       "}\n"
      ]
     },
     "execution_count": 18,
     "metadata": {},
     "output_type": "execute_result"
    },
    {
     "data": {
      "text/plain": [
       "<trainer> saving network to /home/ozan/egocentric-object/src/torch_mnist/logs/mnist.net\t\n",
       "<trainer> on testing Set:\t\n"
      ]
     },
     "execution_count": 18,
     "metadata": {},
     "output_type": "execute_result"
    },
    {
     "data": {
      "text/plain": [
       "Progress: 611 / 1000\t\n"
      ]
     },
     "execution_count": 18,
     "metadata": {},
     "output_type": "execute_result"
    },
    {
     "data": {
      "text/plain": [
       "<trainer> time to test 1 sample = 2.2745850086212ms\t\n"
      ]
     },
     "execution_count": 18,
     "metadata": {},
     "output_type": "execute_result"
    },
    {
     "data": {
      "text/plain": [
       "ConfusionMatrix:\n",
       "[[      84       0       0       0       0       1       0       0       0       0]   98.824% \t[class: 1]\n",
       " [       0     126       0       0       0       0       0       0       0       0]   100.000% \t[class: 2]\n",
       " [       2       0     109       0       0       0       2       3       0       0]   93.966% \t[class: 3]\n",
       " [       0       0       1     102       0       4       0       0       0       0]   95.327% \t[class: 4]\n",
       " [       0       1       0       0     101       0       1       0       0       7]   91.818% \t[class: 5]\n",
       " [       0       0       1       1       0      83       1       0       1       0]   95.402% \t[class: 6]\n",
       " [       2       0       0       0       1       0      84       0       0       0]   96.552% \t[class: 7]\n",
       " [       0       0       2       1       0       0       0      93       0       3]   93.939% \t[class: 8]\n",
       " [       1       0       2       2       2       0       0       0      81       1]   91.011% \t[class: 9]\n",
       " [       0       0       0       1       0       0       0       1       0      92]]  97.872% \t[class: 10]\n",
       " + average row correct: 95.471132993698% \n",
       " + average rowUcol correct (VOC measure): 91.27775490284% \n",
       " + global correct: 95.5%\n",
       "{\n",
       "  valids : FloatTensor - size: 10\n"
      ]
     },
     "execution_count": 18,
     "metadata": {},
     "output_type": "execute_result"
    },
    {
     "data": {
      "text/plain": [
       "  mat : LongTensor - size: 10x10\n",
       "  averageUnionValid : 0.9127775490284\n",
       "  _targ_idx : LongTensor - empty\n",
       "  averageValid : 0.95471132993698\n",
       "  classes : \n",
       "    {\n",
       "      1 : 1\n",
       "      2 : 2\n",
       "      3 : 3\n",
       "      4 : 4\n",
       "      5 : 5\n",
       "      6 : 6\n",
       "      7 : 7\n",
       "      8 : 8\n",
       "      9 : 9\n",
       "      10 : 10\n",
       "    }\n",
       "  _prediction : FloatTensor - size: 10\n",
       "  _pred_idx : LongTensor - size: 1\n",
       "  nclasses : 10\n",
       "  _max : FloatTensor - size: 1\n"
      ]
     },
     "execution_count": 18,
     "metadata": {},
     "output_type": "execute_result"
    },
    {
     "data": {
      "text/plain": [
       "  _target : FloatTensor - empty\n",
       "  unionvalids : FloatTensor - size: 10\n",
       "  totalValid : 0.955\n",
       "}\n"
      ]
     },
     "execution_count": 18,
     "metadata": {},
     "output_type": "execute_result"
    },
    {
     "data": {
      "text/plain": [
       "<trainer> on training set:\t\n",
       "<trainer> online epoch # 21 [batchSize = 10]\t\n"
      ]
     },
     "execution_count": 18,
     "metadata": {},
     "output_type": "execute_result"
    },
    {
     "data": {
      "text/plain": [
       "Progress: 801 / 2000\t\n"
      ]
     },
     "execution_count": 18,
     "metadata": {},
     "output_type": "execute_result"
    },
    {
     "data": {
      "text/plain": [
       "<trainer> time to learn 1 sample = 3.0695184469223ms\t\n"
      ]
     },
     "execution_count": 18,
     "metadata": {},
     "output_type": "execute_result"
    },
    {
     "data": {
      "text/plain": [
       "ConfusionMatrix:\n",
       "[[     191       0       0       0       0       0       0       0       0       0]   100.000% \t[class: 1]\n",
       " [       0     220       0       0       0       0       0       0       0       0]   100.000% \t[class: 2]\n",
       " [       0       0     198       0       0       0       0       0       0       0]   100.000% \t[class: 3]\n",
       " [       0       0       0     191       0       0       0       0       0       0]   100.000% \t[class: 4]\n",
       " [       0       0       0       0     214       0       0       0       0       0]   100.000% \t[class: 5]\n",
       " [       0       0       0       0       0     180       0       0       0       0]   100.000% \t[class: 6]\n",
       " [       0       0       0       0       0       0     200       0       0       0]   100.000% \t[class: 7]\n",
       " [       0       0       0       0       0       0       0     224       0       0]   100.000% \t[class: 8]\n",
       " [       0       0       0       0       0       0       0       0     172       0]   100.000% \t[class: 9]\n",
       " [       0       0       0       0       0       0       0       0       0     210]]  100.000% \t[class: 10]\n",
       " + average row correct: 100% \n",
       " + average rowUcol correct (VOC measure): 100% \n",
       " + global correct: 100%\n",
       "{\n",
       "  valids : FloatTensor - size: 10\n",
       "  mat : LongTensor - size: 10x10\n",
       "  averageUnionValid : 1\n",
       "  _targ_idx : LongTensor - empty\n",
       "  averageValid : 1\n",
       "  classes : \n",
       "    {\n",
       "      1 : 1\n",
       "      2 : 2\n",
       "      3 : 3\n",
       "      4 : 4\n",
       "      5 : 5\n",
       "      6 : 6\n",
       "      7 : 7\n",
       "      8 : 8\n",
       "      9 : 9\n",
       "   "
      ]
     },
     "execution_count": 18,
     "metadata": {},
     "output_type": "execute_result"
    },
    {
     "data": {
      "text/plain": [
       "   10 : 10\n",
       "    }\n",
       "  _prediction : FloatTensor - size: 10\n",
       "  _pred_idx : LongTensor - size: 1\n",
       "  nclasses : 10\n",
       "  _max : FloatTensor - size: 1\n",
       "  _target : FloatTensor - empty\n",
       "  unionvalids : FloatTensor - size: 10\n",
       "  totalValid : 1\n",
       "}\n"
      ]
     },
     "execution_count": 18,
     "metadata": {},
     "output_type": "execute_result"
    },
    {
     "data": {
      "text/plain": [
       "<trainer> saving network to /home/ozan/egocentric-object/src/torch_mnist/logs/mnist.net\t\n",
       "<trainer> on testing Set:\t\n"
      ]
     },
     "execution_count": 18,
     "metadata": {},
     "output_type": "execute_result"
    },
    {
     "data": {
      "text/plain": [
       "Progress: 651 / 1000\t\n"
      ]
     },
     "execution_count": 18,
     "metadata": {},
     "output_type": "execute_result"
    },
    {
     "data": {
      "text/plain": [
       "<trainer> time to test 1 sample = 1.5290100574493ms\t\n"
      ]
     },
     "execution_count": 18,
     "metadata": {},
     "output_type": "execute_result"
    },
    {
     "data": {
      "text/plain": [
       "ConfusionMatrix:\n",
       "[[      84       0       0       0       0       1       0       0       0       0]   98.824% \t[class: 1]\n",
       " [       0     126       0       0       0       0       0       0       0       0]   100.000% \t[class: 2]\n",
       " [       2       0     110       0       0       0       2       2       0       0]   94.828% \t[class: 3]\n",
       " [       0       0       1     102       0       4       0       0       0       0]   95.327% \t[class: 4]\n",
       " [       0       1       0       0     101       0       1       0       0       7]   91.818% \t[class: 5]\n",
       " [       0       0       1       1       0      83       1       0       1       0]   95.402% \t[class: 6]\n",
       " [       2       0       0       0       1       0      84       0       0       0]   96.552% \t[class: 7]\n",
       " [       0       0       2       1       0       0       0      93       0       3]   93.939% \t[class: 8]\n",
       " [       1       0       2       2       2       0       0       0      81       1]   91.011% \t[class: 9]\n",
       " [       0       0       0       1       0       0       0       1       0      92]]  97.872% \t[class: 10]\n",
       " + average row correct: 95.557339787483% \n",
       " + average rowUcol correct (VOC measure): 91.448242664337% \n",
       " + global correct: 95.6%\n",
       "{\n",
       "  valids : FloatTensor - size: 10\n",
       "  mat : LongTensor - size: 10x10\n",
       "  averageUnionValid : 0.91448242664337\n",
       "  _targ_idx : LongTensor - empty\n",
       "  averageValid : 0.95557339787483\n",
       "  classes : \n",
       "    {\n",
       "      1 : 1\n",
       "      2 : 2\n",
       "      3 : 3\n",
       "      4 : 4\n",
       "      "
      ]
     },
     "execution_count": 18,
     "metadata": {},
     "output_type": "execute_result"
    },
    {
     "data": {
      "text/plain": [
       "5 : 5\n",
       "      6 : 6\n",
       "      7 : 7\n",
       "      8 : 8\n",
       "      9 : 9\n",
       "      10 : 10\n",
       "    }\n",
       "  _prediction : FloatTensor - size: 10\n",
       "  _pred_idx : LongTensor - size: 1\n",
       "  nclasses : 10\n",
       "  _max : FloatTensor - size: 1\n",
       "  _target : FloatTensor - empty\n",
       "  unionvalids : FloatTensor - size: 10\n",
       "  totalValid : 0.956\n",
       "}\n"
      ]
     },
     "execution_count": 18,
     "metadata": {},
     "output_type": "execute_result"
    },
    {
     "data": {
      "text/plain": [
       "<trainer> on training set:\t\n",
       "<trainer> online epoch # 22 [batchSize = 10]\t\n"
      ]
     },
     "execution_count": 18,
     "metadata": {},
     "output_type": "execute_result"
    },
    {
     "data": {
      "text/plain": [
       "Progress: 821 / 2000\t\n"
      ]
     },
     "execution_count": 18,
     "metadata": {},
     "output_type": "execute_result"
    },
    {
     "data": {
      "text/plain": [
       "<trainer> time to learn 1 sample = 3.5145169496536ms\t\n"
      ]
     },
     "execution_count": 18,
     "metadata": {},
     "output_type": "execute_result"
    },
    {
     "data": {
      "text/plain": [
       "ConfusionMatrix:\n",
       "[[     191       0       0       0       0       0       0       0       0       0]   100.000% \t[class: 1]\n",
       " [       0     220       0       0       0       0       0       0       0       0]   100.000% \t[class: 2]\n",
       " [       0       0     198       0       0       0       0       0       0       0]   100.000% \t[class: 3]\n",
       " [       0       0       0     191       0       0       0       0       0       0]   100.000% \t[class: 4]\n",
       " [       0       0       0       0     214       0       0       0       0       0]   100.000% \t[class: 5]\n",
       " [       0       0       0       0       0     180       0       0       0       0]   100.000% \t[class: 6]\n",
       " [       0       0       0       0       0       0     200       0       0       0]   100.000% \t[class: 7]\n",
       " [       0       0       0       0       0       0       0     224       0       0]   100.000% \t[class: 8]\n",
       " [       0       0       0       0       0       0       0       0     172       0]   100.000% \t[class: 9]\n",
       " [       0       0       0       0       0       0       0       0       0     210]]  100.000% \t[class: 10]\n",
       " + average row correct: 100% \n",
       " + average rowUcol correct (VOC measure): 100% \n",
       " + global correct: 100%\n",
       "{\n",
       "  valids : FloatTensor - size: 10\n",
       "  mat : LongTensor - size: 10x10\n",
       "  averageUnionValid : 1\n",
       "  _targ_idx : LongTensor - empty\n",
       "  averageValid : 1\n",
       "  classes : \n",
       "    {\n",
       "      1 : 1\n",
       "      2 : 2\n",
       "      3 : 3\n",
       "      "
      ]
     },
     "execution_count": 18,
     "metadata": {},
     "output_type": "execute_result"
    },
    {
     "data": {
      "text/plain": [
       "4 : 4\n",
       "      5 : 5\n",
       "      6 : 6\n",
       "      7 : 7\n",
       "      8 : 8\n",
       "      9 : 9\n",
       "      10 : 10\n",
       "    }\n",
       "  _prediction : FloatTensor - size: 10\n",
       "  _pred_idx : LongTensor - size: 1\n",
       "  nclasses : 10\n",
       "  _max : FloatTensor - size: 1\n",
       "  _target : FloatTensor - empty\n",
       "  unionvalids : FloatTensor - size: 10\n",
       "  totalValid : 1\n",
       "}\n"
      ]
     },
     "execution_count": 18,
     "metadata": {},
     "output_type": "execute_result"
    },
    {
     "data": {
      "text/plain": [
       "<trainer> saving network to /home/ozan/egocentric-object/src/torch_mnist/logs/mnist.net\t\n",
       "<trainer> on testing Set:\t\n"
      ]
     },
     "execution_count": 18,
     "metadata": {},
     "output_type": "execute_result"
    },
    {
     "data": {
      "text/plain": [
       "Progress: 261 / 1000\t\n"
      ]
     },
     "execution_count": 18,
     "metadata": {},
     "output_type": "execute_result"
    },
    {
     "data": {
      "text/plain": [
       "<trainer> time to test 1 sample = 1.4964590072632ms\t\n"
      ]
     },
     "execution_count": 18,
     "metadata": {},
     "output_type": "execute_result"
    },
    {
     "data": {
      "text/plain": [
       "ConfusionMatrix:\n",
       "[[      84       0       0       0       0       1       0       0       0       0]   98.824% \t[class: 1]\n",
       " [       0     126       0       0       0       0       0       0       0       0]   100.000% \t[class: 2]\n",
       " [       2       0     110       0       0       0       2       2       0       0]   94.828% \t[class: 3]\n",
       " [       0       0       1     102       0       4       0       0       0       0]   95.327% \t[class: 4]\n",
       " [       0       1       0       0     101       0       1       0       0       7]   91.818% \t[class: 5]\n",
       " [       0       0       1       1       0      83       1       0       1       0]   95.402% \t[class: 6]\n",
       " [       2       0       0       0       1       0      84       0       0       0]   96.552% \t[class: 7]\n",
       " [       0       0       2       1       0       0       0      93       0       3]   93.939% \t[class: 8]\n",
       " [       1       0       2       2       2       0       0       0      81       1]   91.011% \t[class: 9]\n",
       " [       0       0       0       1       0       0       0       1       0      92]]  97.872% \t[class: 10]\n",
       " + average row correct: 95.557339787483% \n",
       " + average rowUcol correct (VOC measure): 91.448242664337% \n",
       " + global correct: 95.6%\n",
       "{\n",
       "  valids : FloatTensor - size: 10\n",
       "  mat : LongTensor - size: 10x10\n",
       "  averageUnionValid : 0.91448242664337\n",
       "  _targ_idx : LongTensor - empty\n",
       "  averageValid : 0.95557339787483\n",
       "  classes : \n",
       "    {\n",
       "      1 : 1\n",
       "      2 : 2\n",
       "      3 : 3\n",
       "      4 : 4\n",
       "      5 : 5\n",
       "      6 : 6\n",
       "      7 : 7\n",
       "      8 : 8\n",
       "      9 : 9\n",
       "      10 : 10\n",
       "    }\n",
       "  _prediction : FloatTensor - size: 10\n",
       "  _pred_idx : LongTensor - size: 1\n",
       "  nclasses : 10\n",
       "  _max : FloatTensor - size: 1\n",
       "  _target : FloatTensor - empty\n",
       "  unionvalids : FloatTensor - size: 10\n"
      ]
     },
     "execution_count": 18,
     "metadata": {},
     "output_type": "execute_result"
    },
    {
     "data": {
      "text/plain": [
       "  totalValid : 0.956\n",
       "}\n"
      ]
     },
     "execution_count": 18,
     "metadata": {},
     "output_type": "execute_result"
    },
    {
     "data": {
      "text/plain": [
       "<trainer> on training set:\t\n",
       "<trainer> online epoch # 23 [batchSize = 10]\t\n"
      ]
     },
     "execution_count": 18,
     "metadata": {},
     "output_type": "execute_result"
    },
    {
     "data": {
      "text/plain": [
       "Progress: 951 / 2000\t\n"
      ]
     },
     "execution_count": 18,
     "metadata": {},
     "output_type": "execute_result"
    },
    {
     "data": {
      "text/plain": [
       "<trainer> time to learn 1 sample = 2.8883090019226ms\t\n"
      ]
     },
     "execution_count": 18,
     "metadata": {},
     "output_type": "execute_result"
    },
    {
     "data": {
      "text/plain": [
       "ConfusionMatrix:\n",
       "[[     191       0       0       0       0       0       0       0       0       0]   100.000% \t[class: 1]\n",
       " [       0     220       0       0       0       0       0       0       0       0]   100.000% \t[class: 2]\n",
       " [       0       0     198       0       0       0       0       0       0       0]   100.000% \t[class: 3]\n",
       " [       0       0       0     191       0       0       0       0       0       0]   100.000% \t[class: 4]\n",
       " [       0       0       0       0     214       0       0       0       0       0]   100.000% \t[class: 5]\n",
       " [       0       0       0       0       0     180       0       0       0       0]   100.000% \t[class: 6]\n",
       " [       0       0       0       0       0       0     200       0       0       0]   100.000% \t[class: 7]\n",
       " [       0       0       0       0       0       0       0     224       0       0]   100.000% \t[class: 8]\n",
       " [       0       0       0       0       0       0       0       0     172       0]   100.000% \t[class: 9]\n",
       " [       0       0       0       0       0       0       0       0       0     210]]  100.000% \t[class: 10]\n",
       " + average row correct: 100% \n",
       " + average rowUcol correct (VOC measure): 100% \n",
       " + global correct: 100%\n",
       "{\n",
       "  valids : FloatTensor - size: 10\n",
       "  mat : LongTensor - size: 10x10\n",
       "  averageUnionValid : 1\n",
       "  _targ_idx : LongTensor - empty\n",
       "  averageValid : 1\n",
       "  classes : \n",
       "    {\n",
       "      1 : 1\n",
       "      2 : 2\n",
       "      3 : 3\n",
       "      4 : 4\n",
       "      5 : 5\n",
       "      6 : 6\n",
       "      7 : 7\n",
       "      8 : 8\n",
       "      9 : 9\n",
       "      10 : 10\n",
       "    }\n",
       "  "
      ]
     },
     "execution_count": 18,
     "metadata": {},
     "output_type": "execute_result"
    },
    {
     "data": {
      "text/plain": [
       "_prediction : FloatTensor - size: 10\n",
       "  _pred_idx : LongTensor - size: 1\n",
       "  nclasses : 10\n",
       "  _max : FloatTensor - size: 1\n",
       "  _target : FloatTensor - empty\n",
       "  unionvalids : FloatTensor - size: 10\n",
       "  totalValid : 1\n",
       "}\n"
      ]
     },
     "execution_count": 18,
     "metadata": {},
     "output_type": "execute_result"
    },
    {
     "data": {
      "text/plain": [
       "<trainer> saving network to /home/ozan/egocentric-object/src/torch_mnist/logs/mnist.net\t\n",
       "<trainer> on testing Set:\t\n"
      ]
     },
     "execution_count": 18,
     "metadata": {},
     "output_type": "execute_result"
    },
    {
     "data": {
      "text/plain": [
       "Progress: 881 / 1000\t\n"
      ]
     },
     "execution_count": 18,
     "metadata": {},
     "output_type": "execute_result"
    },
    {
     "data": {
      "text/plain": [
       "<trainer> time to test 1 sample = 1.484179019928ms\t\n"
      ]
     },
     "execution_count": 18,
     "metadata": {},
     "output_type": "execute_result"
    },
    {
     "data": {
      "text/plain": [
       "ConfusionMatrix:\n",
       "[[      84       0       0       0       0       1       0       0       0       0]   98.824% \t[class: 1]\n",
       " [       0     126       0       0       0       0       0       0       0       0]   100.000% \t[class: 2]\n",
       " [       2       0     110       0       0       0       2       2       0       0]   94.828% \t[class: 3]\n",
       " [       0       0       1     102       0       4       0       0       0       0]   95.327% \t[class: 4]\n",
       " [       0       1       0       0     101       0       1       0       0       7]   91.818% \t[class: 5]\n",
       " [       0       0       1       1       0      84       1       0       0       0]   96.552% \t[class: 6]\n",
       " [       2       0       0       0       1       0      84       0       0       0]   96.552% \t[class: 7]\n",
       " [       0       0       2       1       0       0       0      93       0       3]   93.939% \t[class: 8]\n",
       " [       1       0       2       2       2       1       0       0      80       1]   89.888% \t[class: 9]\n",
       " [       0       0       0       1       0       0       0       1       0      92]]  97.872% \t[class: 10]\n",
       " + average row correct: 95.559922456741% \n",
       " + average rowUcol correct (VOC measure): 91.447525620461% \n",
       " + global correct: 95.6%\n",
       "{\n",
       "  valids : FloatTensor - size: 10\n",
       "  mat : LongTensor - size: 10x10\n",
       "  averageUnionValid : 0.91447525620461\n",
       "  _targ_idx : LongTensor - empty\n",
       "  averageValid : 0.95559922456741\n",
       "  classes : \n",
       "    {\n",
       "      1 : 1\n",
       "      2 : 2\n",
       "      3 : 3\n",
       "      4 : 4\n",
       "      5 : 5\n",
       "      6 : 6\n",
       "   "
      ]
     },
     "execution_count": 18,
     "metadata": {},
     "output_type": "execute_result"
    },
    {
     "data": {
      "text/plain": [
       "   7 : 7\n",
       "      8 : 8\n",
       "      9 : 9"
      ]
     },
     "execution_count": 18,
     "metadata": {},
     "output_type": "execute_result"
    },
    {
     "data": {
      "text/plain": [
       "\n",
       "      10 : 10\n",
       "    }\n",
       "  _prediction : FloatTensor - size: 10\n",
       "  _pred_idx : LongTensor - size: 1\n",
       "  nclasses : 10\n",
       "  _max : FloatTensor - size: 1"
      ]
     },
     "execution_count": 18,
     "metadata": {},
     "output_type": "execute_result"
    },
    {
     "data": {
      "text/plain": [
       "\n",
       "  _target : FloatTensor - empty\n",
       "  unionvalids : FloatTensor - size: 10\n",
       "  totalValid : 0.956\n",
       "}\n"
      ]
     },
     "execution_count": 18,
     "metadata": {},
     "output_type": "execute_result"
    },
    {
     "data": {
      "text/plain": [
       "<trainer> on training set:\t\n",
       "<trainer> online epoch # 24 [batchSize = 10]\t\n"
      ]
     },
     "execution_count": 18,
     "metadata": {},
     "output_type": "execute_result"
    },
    {
     "data": {
      "text/plain": [
       "Progress: 1241 / 2000\t\n"
      ]
     },
     "execution_count": 18,
     "metadata": {},
     "output_type": "execute_result"
    },
    {
     "data": {
      "text/plain": [
       "<trainer> time to learn 1 sample = 2.8893585205078ms\t\n"
      ]
     },
     "execution_count": 18,
     "metadata": {},
     "output_type": "execute_result"
    },
    {
     "data": {
      "text/plain": [
       "ConfusionMatrix:\n",
       "[[     191       0       0       0       0       0       0       0       0       0]   100.000% \t[class: 1]\n",
       " [       0     220       0       0       0       0       0       0       0       0]   100.000% \t[class: 2]\n",
       " [       0       0     198       0       0       0       0       0       0       0]   100.000% \t[class: 3]\n",
       " [       0       0       0     191       0       0       0       0       0       0]   100.000% \t[class: 4]\n",
       " [       0       0       0       0     214       0       0       0       0       0]   100.000% \t[class: 5]\n",
       " [       0       0       0       0       0     180       0       0       0       0]   100.000% \t[class: 6]\n",
       " [       0       0       0       0       0       0     200       0       0       0]   100.000% \t[class: 7]\n",
       " [       0       0       0       0       0       0       0     224       0       0]   100.000% \t[class: 8]\n",
       " [       0       0       0       0       0       0       0       0     172       0]   100.000% \t[class: 9]\n",
       " [       0       0       0       0       0       0       0       0       0     210]]  100.000% \t[class: 10]\n",
       " + average row correct: 100% \n",
       " + average rowUcol correct (VOC measure): 100% \n",
       " + global correct: 100%\n",
       "{\n",
       "  valids : FloatTensor - size: 10\n",
       "  mat : LongTensor - size: 10x10\n",
       "  averageUnionValid : 1\n",
       "  _targ_idx : LongTensor - empty\n",
       "  averageValid : 1\n",
       "  classes : \n",
       "    {\n",
       "      1 : 1\n",
       "      2 : 2\n",
       "      3 : 3\n",
       "      4 : 4\n",
       "      5 : 5\n",
       "      6 : 6\n",
       "      7 : 7\n",
       "      8 : 8\n",
       "      9 : 9\n",
       "      10 : 10\n",
       "    }\n",
       "  _prediction : FloatTensor - size: 10\n",
       "  _pred_idx : LongTensor - size: 1\n",
       "  nclasses : 10\n",
       "  _max : FloatTensor - size: 1\n",
       "  _target : FloatTensor - empty\n",
       "  unionvalids : FloatTensor - size: 10\n",
       "  totalValid : 1\n",
       "}\n"
      ]
     },
     "execution_count": 18,
     "metadata": {},
     "output_type": "execute_result"
    },
    {
     "data": {
      "text/plain": [
       "<trainer> saving network to /home/ozan/egocentric-object/src/torch_mnist/logs/mnist.net\t\n",
       "<trainer> on testing Set:\t\n"
      ]
     },
     "execution_count": 18,
     "metadata": {},
     "output_type": "execute_result"
    },
    {
     "data": {
      "text/plain": [
       "<trainer> time to test 1 sample = 1.8408710956573ms\t\n"
      ]
     },
     "execution_count": 18,
     "metadata": {},
     "output_type": "execute_result"
    },
    {
     "data": {
      "text/plain": [
       "ConfusionMatrix:\n",
       "[[      84       0       0       0       0       1       0       0       0       0]   98.824% \t[class: 1]\n",
       " [       0     126       0       0       0       0       0       0       0       0]   100.000% \t[class: 2]\n",
       " [       2       0     110       0       0       0       2       2       0       0]   94.828% \t[class: 3]\n",
       " [       0       0       1     102       0       4       0       0       0       0]   95.327% \t[class: 4]\n",
       " [       0       1       0       0     102       0       1       0       0       6]   92.727% \t[class: 5]\n",
       " [       0       0       1       1       0      84       1       0       0       0]   96.552% \t[class: 6]\n",
       " [       2       0       0       0       1       0      84       0       0       0]   96.552% \t[class: 7]\n",
       " [       0       0       2       1       0       0       0      93       0       3]   93.939% \t[class: 8]\n",
       " [       1       0       2       2       2       1       0       0      80       1]   89.888% \t[class: 9]\n",
       " [       0       0       0       1       0       0       0       1       0      92]]  97.872% \t[class: 10]\n",
       " + average row correct: 95.650831460953% \n",
       " + average rowUcol correct (VOC measure): 91.620270013809% \n",
       " + global correct: 95.7%\n",
       "{\n",
       "  valids : FloatTensor - size: 10\n",
       "  mat : LongTensor - size: 10x10\n",
       "  averageUnionValid : 0.91620270013809\n",
       "  _targ_idx : LongTensor - empty\n",
       "  averageValid : 0.95650831460953\n",
       "  classes : \n",
       "    {\n",
       "      1 : 1\n",
       "      2 : 2\n",
       "      3 : 3\n",
       "      4 : 4\n",
       "      5 : 5"
      ]
     },
     "execution_count": 18,
     "metadata": {},
     "output_type": "execute_result"
    },
    {
     "data": {
      "text/plain": [
       "\n",
       "      6 : 6\n",
       "      7 : 7\n",
       "      8 : 8\n",
       "      9 : 9\n",
       "      10 : 10\n",
       "    }\n",
       "  _prediction : FloatTensor - size: 10\n",
       "  _pred_idx : LongTensor - size: 1\n",
       "  nclasses : 10\n",
       "  _max : FloatTensor - size: 1\n",
       "  _target : FloatTensor - empty\n",
       "  unionvalids : FloatTensor - size: 10\n",
       "  totalValid : 0.957\n",
       "}\n"
      ]
     },
     "execution_count": 18,
     "metadata": {},
     "output_type": "execute_result"
    },
    {
     "data": {
      "text/plain": [
       "<trainer> on training set:\t\n",
       "<trainer> online epoch # 25 [batchSize = 10]\t\n"
      ]
     },
     "execution_count": 18,
     "metadata": {},
     "output_type": "execute_result"
    },
    {
     "data": {
      "text/plain": [
       "Progress: 21 / 2000\t\n"
      ]
     },
     "execution_count": 18,
     "metadata": {},
     "output_type": "execute_result"
    },
    {
     "data": {
      "text/plain": [
       "Progress: 861 / 2000\t\n"
      ]
     },
     "execution_count": 18,
     "metadata": {},
     "output_type": "execute_result"
    },
    {
     "data": {
      "text/plain": [
       "Progress: 1781 / 2000\t\n"
      ]
     },
     "execution_count": 18,
     "metadata": {},
     "output_type": "execute_result"
    },
    {
     "data": {
      "text/plain": [
       "<trainer> time to learn 1 sample = 4.6362439393997ms\t\n",
       "ConfusionMatrix:\n",
       "[[     191       0       0       0       0       0       0       0       0       0]   100.000% \t[class: 1]\n",
       " [       0     220       0       0       0       0       0       0       0       0]   100.000% \t[class: 2]\n",
       " [       0       0     198       0       0       0       0       0       0       0]   100.000% \t[class: 3]\n",
       " [       0       0       0     191       0       0       0       0       0       0]   100.000% \t[class: 4]\n",
       " [       0       0       0       0     214       0       0       0       0       0]   100.000% \t[class: 5]\n",
       " [       0       0       0       0       0     180       0       0       0       0]   100.000% \t[class: 6]\n",
       " [       0       0       0       0       0       0     200       0       0       0]   100.000% \t[class: 7]\n",
       " [       0       0       0       0       0       0       0     224       0       0]   100.000% \t[class: 8]\n",
       " [       0       0       0       0       0       0       0       0     172       0]   100.000% \t[class: 9]\n",
       " [       0       0       0       0       0       0       0       0       0     210]]  100.000% \t[class: 10]\n",
       " + average row correct: 100% \n",
       " + average rowUcol correct (VOC measure): 100% \n",
       " + global correct: 100%\n",
       "{\n",
       "  valids : FloatTensor - size: 10\n",
       "  mat : LongTensor - size: 10x10\n",
       "  averageUnionValid : 1\n",
       "  _targ_idx : LongTensor - empty\n",
       "  averageValid : 1\n",
       "  classes : \n",
       "    {\n",
       "      "
      ]
     },
     "execution_count": 18,
     "metadata": {},
     "output_type": "execute_result"
    },
    {
     "data": {
      "text/plain": [
       "1 : 1\n",
       "      2 : 2\n",
       "      3 : 3\n",
       "      4 : 4\n",
       "      5 : 5\n",
       "      6 : 6\n",
       "      7 : 7\n",
       "      8 : 8\n",
       "      9 : 9\n",
       "      10 : 10\n",
       "    }\n",
       "  _prediction : FloatTensor - size: 10\n",
       "  _pred_idx : LongTensor - size: 1\n",
       "  nclasses : 10\n",
       "  _max : FloatTensor - size: 1\n",
       "  _target : FloatTensor - empty\n",
       "  unionvalids : FloatTensor - size: 10\n",
       "  totalValid : 1\n",
       "}\n"
      ]
     },
     "execution_count": 18,
     "metadata": {},
     "output_type": "execute_result"
    },
    {
     "data": {
      "text/plain": [
       "<trainer> saving network to /home/ozan/egocentric-object/src/torch_mnist/logs/mnist.net\t\n",
       "<trainer> on testing Set:\t\n"
      ]
     },
     "execution_count": 18,
     "metadata": {},
     "output_type": "execute_result"
    },
    {
     "data": {
      "text/plain": [
       "<trainer> time to test 1 sample = 1.3608510494232ms\t\n"
      ]
     },
     "execution_count": 18,
     "metadata": {},
     "output_type": "execute_result"
    },
    {
     "data": {
      "text/plain": [
       "ConfusionMatrix:\n",
       "[[      84       0       0       0       0       1       0       0       0       0]   98.824% \t[class: 1]\n",
       " [       0     126       0       0       0       0       0       0       0       0]   100.000% \t[class: 2]\n",
       " [       2       0     110       0       0       0       2       2       0       0]   94.828% \t[class: 3]\n",
       " [       0       0       1     102       0       4       0       0       0       0]   95.327% \t[class: 4]\n",
       " [       0       1       0       0     102       0       1       0       0       6]   92.727% \t[class: 5]\n",
       " [       0       0       1       1       0      84       1       0       0       0]   96.552% \t[class: 6]\n",
       " [       2       0       0       0       1       0      84       0       0       0]   96.552% \t[class: 7]\n",
       " [       0       0       2       1       0       0       0      93       0       3]   93.939% \t[class: 8]\n",
       " [       1       0       2       2       2       1       0       0      80       1]   89.888% \t[class: 9]\n",
       " [       0       0       0       1       0       0       0       1       0      92]]  97.872% \t[class: 10]\n",
       " + average row correct: 95.650831460953% \n",
       " + average rowUcol correct (VOC measure): 91.620270013809% \n",
       " + global correct: 95.7%\n",
       "{\n",
       "  valids : FloatTensor - size: 10\n",
       "  mat : LongTensor - size: 10x10\n",
       "  averageUnionValid : 0.91620270013809\n",
       "  _targ_idx : LongTensor - empty\n",
       "  averageValid : 0.95650831460953\n",
       "  classes : \n",
       "    {\n",
       "      1 : 1\n",
       "      2 : 2\n",
       "      3 : 3\n",
       "      4 : 4\n",
       "      5 : 5\n",
       "      6 : 6\n",
       "      7 : 7\n",
       "      8 : 8\n",
       "      9 : 9\n",
       "      10 : 10\n",
       "    }\n",
       "  _prediction : FloatTensor - size: 10\n",
       "  _pred_idx : LongTensor - size: 1\n",
       "  nclasses : 10\n",
       "  _max : FloatTensor - size: 1\n",
       "  _target : FloatTensor - empty\n",
       "  unionvalids : FloatTensor - size: 10\n",
       "  totalValid : 0.957\n",
       "}\n"
      ]
     },
     "execution_count": 18,
     "metadata": {},
     "output_type": "execute_result"
    },
    {
     "data": {
      "text/plain": [
       "<trainer> on training set:\t\n",
       "<trainer> online epoch # 26 [batchSize = 10]\t\n"
      ]
     },
     "execution_count": 18,
     "metadata": {},
     "output_type": "execute_result"
    },
    {
     "data": {
      "text/plain": [
       "Progress: 701 / 2000\t\n"
      ]
     },
     "execution_count": 18,
     "metadata": {},
     "output_type": "execute_result"
    },
    {
     "data": {
      "text/plain": [
       "Progress: 1751 / 2000\t\n"
      ]
     },
     "execution_count": 18,
     "metadata": {},
     "output_type": "execute_result"
    },
    {
     "data": {
      "text/plain": [
       "<trainer> time to learn 1 sample = 3.4451553821564ms\t\n"
      ]
     },
     "execution_count": 18,
     "metadata": {},
     "output_type": "execute_result"
    },
    {
     "data": {
      "text/plain": [
       "ConfusionMatrix:\n",
       "[[     191       0       0       0       0       0       0       0       0       0]   100.000% \t[class: 1]\n",
       " [       0     220       0       0       0       0       0       0       0       0]   100.000% \t[class: 2]\n",
       " [       0       0     198       0       0       0       0       0       0       0]   100.000% \t[class: 3]\n",
       " [       0       0       0     191       0       0       0       0       0       0]   100.000% \t[class: 4]\n",
       " [       0       0       0       0     214       0       0       0       0       0]   100.000% \t[class: 5]\n",
       " [       0       0       0       0       0     180       0       0       0       0]   100.000% \t[class: 6]\n",
       " [       0       0       0       0       0       0     200       0       0       0]   100.000% \t[class: 7]\n",
       " [       0       0       0       0       0       0       0     224       0       0]   100.000% \t[class: 8]\n",
       " [       0       0       0       0       0       0       0       0     172       0]   100.000% \t[class: 9]\n",
       " [       0       0       0       0       0       0       0       0       0     210]]  100.000% \t[class: 10]\n",
       " + average row correct: 100% \n",
       " + average rowUcol correct (VOC measure): 100% \n",
       " + global correct: 100%\n",
       "{\n",
       "  valids : FloatTensor - size: 10\n",
       "  mat : LongTensor - size: 10x10\n",
       "  averageUnionValid : 1\n",
       "  _targ_idx : LongTensor - empty\n",
       "  averageValid : 1\n",
       "  classes : \n",
       "    {\n",
       "      1 : 1\n",
       "   "
      ]
     },
     "execution_count": 18,
     "metadata": {},
     "output_type": "execute_result"
    },
    {
     "data": {
      "text/plain": [
       "   2 : 2\n",
       "      3 : 3\n",
       "      4 : 4\n",
       "      5 : 5\n",
       "      6 : 6\n"
      ]
     },
     "execution_count": 18,
     "metadata": {},
     "output_type": "execute_result"
    },
    {
     "data": {
      "text/plain": [
       "      7 : 7\n",
       "      8 : 8\n",
       "      9 : 9\n",
       "      10 : 10\n",
       "    }\n",
       "  _prediction : FloatTensor - size: 10\n",
       "  _pred_idx : LongTensor - size: 1\n",
       "  nclasses : 10\n",
       "  _max : FloatTensor - size: 1\n",
       "  _target : FloatTensor - empty\n",
       "  unionvalids : FloatTensor - size: 10\n",
       "  totalValid : 1\n",
       "}\n"
      ]
     },
     "execution_count": 18,
     "metadata": {},
     "output_type": "execute_result"
    },
    {
     "data": {
      "text/plain": [
       "<trainer> saving network to /home/ozan/egocentric-object/src/torch_mnist/logs/mnist.net\t\n",
       "<trainer> on testing Set:\t\n"
      ]
     },
     "execution_count": 18,
     "metadata": {},
     "output_type": "execute_result"
    },
    {
     "data": {
      "text/plain": [
       "<trainer> time to test 1 sample = 1.5860719680786ms\t\n"
      ]
     },
     "execution_count": 18,
     "metadata": {},
     "output_type": "execute_result"
    },
    {
     "data": {
      "text/plain": [
       "ConfusionMatrix:\n",
       "[[      84       0       0       0       0       1       0       0       0       0]   98.824% \t[class: 1]\n",
       " [       0     126       0       0       0       0       0       0       0       0]   100.000% \t[class: 2]\n",
       " [       2       0     110       0       0       0       2       2       0       0]   94.828% \t[class: 3]\n",
       " [       0       0       1     102       0       4       0       0       0       0]   95.327% \t[class: 4]\n",
       " [       0       1       0       0     102       0       1       0       0       6]   92.727% \t[class: 5]\n",
       " [       0       0       1       1       0      84       1       0       0       0]   96.552% \t[class: 6]\n",
       " [       2       0       0       0       1       0      84       0       0       0]   96.552% \t[class: 7]\n",
       " [       0       0       2       1       0       0       0      93       0       3]   93.939% \t[class: 8]\n",
       " [       1       0       2       2       2       1       0       0      80       1]   89.888% \t[class: 9]\n",
       " [       0       0       0       1       0       0       0       1       0      92]]  97.872% \t[class: 10]\n",
       " + average row correct: 95.650831460953% \n",
       " + average rowUcol correct (VOC measure): 91.620270013809% \n",
       " + global correct: 95.7%\n",
       "{\n",
       "  valids : FloatTensor - size: 10\n",
       "  mat : LongTensor - size: 10x10\n",
       "  averageUnionValid : 0.91620270013809\n",
       "  _targ_idx : LongTensor - empty\n",
       "  averageValid : 0.95650831460953\n",
       "  classes : \n",
       "    {\n",
       "      1 : 1\n",
       "      2 : 2\n",
       "      3 : 3\n",
       "      4 : 4\n",
       "      5 : 5\n",
       "      6 : 6\n",
       "      7 : 7\n",
       "      8 : 8\n",
       "      9 : 9\n",
       "      10 : 10\n",
       "    }\n",
       "  _prediction : FloatTensor - size: 10\n",
       "  _pred_idx : LongTensor - size: 1\n",
       "  nclasses : 10\n",
       "  _max : FloatTensor - size: 1\n",
       "  _target : FloatTensor - empty\n",
       "  unionvalids : FloatTensor - size: 10\n",
       "  totalValid : 0.957\n",
       "}\n"
      ]
     },
     "execution_count": 18,
     "metadata": {},
     "output_type": "execute_result"
    },
    {
     "data": {
      "text/plain": [
       "<trainer> on training set:\t\n",
       "<trainer> online epoch # 27 [batchSize = 10]\t\n"
      ]
     },
     "execution_count": 18,
     "metadata": {},
     "output_type": "execute_result"
    },
    {
     "data": {
      "text/plain": [
       "Progress: 561 / 2000\t\n"
      ]
     },
     "execution_count": 18,
     "metadata": {},
     "output_type": "execute_result"
    },
    {
     "data": {
      "text/plain": [
       "Progress: 1531 / 2000\t\n"
      ]
     },
     "execution_count": 18,
     "metadata": {},
     "output_type": "execute_result"
    },
    {
     "data": {
      "text/plain": [
       "<trainer> time to learn 1 sample = 4.15567445755ms\t"
      ]
     },
     "execution_count": 18,
     "metadata": {},
     "output_type": "execute_result"
    },
    {
     "data": {
      "text/plain": [
       "\n"
      ]
     },
     "execution_count": 18,
     "metadata": {},
     "output_type": "execute_result"
    },
    {
     "data": {
      "text/plain": [
       "ConfusionMatrix:\n",
       "[[     191       0       0       0       0       0       0       0       0       0]   100.000% \t[class: 1]\n",
       " [       0     220       0       0       0       0       0       0       0       0]   100.000% \t[class: 2]\n",
       " [       0       0     198       0       0       0       0       0       0       0]   100.000% \t[class: 3]\n",
       " [       0       0       0     191       0       0       0       0       0       0]   100.000% \t[class: 4]\n",
       " [       0       0       0       0     214       0       0       0       0       0]   100.000% \t[class: 5]\n",
       " [       0       0       0       0       0     180       0       0       0       0]   100.000% \t[class: 6]\n",
       " [       0       0       0       0       0       0     200       0       0       0]   100.000% \t[class: 7]\n",
       " [       0       0       0       0       0       0       0     224       0       0]   100.000% \t[class: 8]\n",
       " [       0       0       0       0       0       0       0       0     172       0]   100.000% \t[class: 9]\n",
       " [       0       0       0       0       0       0       0       0       0     210]]  100.000% \t[class: 10]\n",
       " + average row correct: 100% \n",
       " + average rowUcol correct (VOC measure): 100% \n",
       " + global correct: 100%\n",
       "{\n",
       "  valids : FloatTensor - size: 10\n",
       "  mat : LongTensor - size: 10x10\n",
       "  averageUnionValid : 1\n",
       "  _targ_idx : LongTensor - empty\n",
       "  averageValid : 1\n",
       "  classes : \n",
       "    {"
      ]
     },
     "execution_count": 18,
     "metadata": {},
     "output_type": "execute_result"
    },
    {
     "data": {
      "text/plain": [
       "\n",
       "      1 : 1\n",
       "      2 : 2\n",
       "      3 : 3\n",
       "      4 : 4\n",
       "      5 : 5\n",
       "      6 : 6\n",
       "      "
      ]
     },
     "execution_count": 18,
     "metadata": {},
     "output_type": "execute_result"
    },
    {
     "data": {
      "text/plain": [
       "7 : 7\n",
       "      8 : 8\n",
       "      9 : 9\n",
       "      10 : 10\n",
       "    }\n",
       "  _prediction : FloatTensor - size: 10\n",
       "  _pred_idx : LongTensor - size: 1\n",
       "  nclasses : 10\n",
       "  _max : FloatTensor - size: 1\n",
       "  _target : FloatTensor - empty\n",
       "  unionvalids : FloatTensor - size: 10\n",
       "  totalValid : 1\n",
       "}\n"
      ]
     },
     "execution_count": 18,
     "metadata": {},
     "output_type": "execute_result"
    },
    {
     "data": {
      "text/plain": [
       "<trainer> saving network to /home/ozan/egocentric-object/src/torch_mnist/logs/mnist.net\t\n",
       "<trainer> on testing Set:\t\n"
      ]
     },
     "execution_count": 18,
     "metadata": {},
     "output_type": "execute_result"
    },
    {
     "data": {
      "text/plain": [
       "<trainer> time to test 1 sample = 1.8113820552826ms\t\n"
      ]
     },
     "execution_count": 18,
     "metadata": {},
     "output_type": "execute_result"
    },
    {
     "data": {
      "text/plain": [
       "ConfusionMatrix:\n",
       "[[      84       0       0       0       0       1       0       0       0       0]   98.824% \t[class: 1]\n",
       " [       0     126       0       0       0       0       0       0       0       0]   100.000% \t[class: 2]\n",
       " [       2       0     110       0       0       0       2       2       0       0]   94.828% \t[class: 3]\n",
       " [       0       0       1     102       0       4       0       0       0       0]   95.327% \t[class: 4]\n",
       " [       0       1       0       0     102       0       1       0       0       6]   92.727% \t[class: 5]\n",
       " [       0       0       1       1       0      84       1       0       0       0]   96.552% \t[class: 6]\n",
       " [       2       0       0       0       1       0      84       0       0       0]   96.552% \t[class: 7]\n",
       " [       0       0       2       1       0       0       0      93       0       3]   93.939% \t[class: 8]\n",
       " [       1       0       2       2       2       1       0       0      80       1]   89.888% \t[class: 9]\n",
       " [       0       0       0       1       0       0       0       1       0      92]]  97.872% \t[class: 10]\n",
       " + average row correct: 95.650831460953% \n",
       " + average rowUcol correct (VOC measure): 91.620270013809% \n",
       " + global correct: 95.7%\n",
       "{\n",
       "  valids : FloatTensor - size: 10\n",
       "  mat : LongTensor - size: 10x10\n",
       "  averageUnionValid : 0.91620270013809\n",
       "  _targ_idx : LongTensor - empty\n",
       "  averageValid : 0.95650831460953\n",
       "  classes : \n",
       "    {\n",
       "      1 : 1\n",
       "      2 : 2\n",
       "      3 : 3\n",
       "      4 : 4\n",
       "      5 : 5\n",
       "      6 : 6\n",
       "      7 : 7\n",
       "      8 : 8\n",
       "      9 : 9\n",
       "      10 : 10\n",
       "    }\n",
       "  _prediction : FloatTensor - size: 10\n",
       "  _pred_idx : LongTensor - size: 1\n",
       "  nclasses : 10\n",
       "  _max : FloatTensor - size: 1\n",
       "  _target : FloatTensor - empty\n",
       "  unionvalids : FloatTensor - size: 10\n",
       "  totalValid : 0.957\n",
       "}\n"
      ]
     },
     "execution_count": 18,
     "metadata": {},
     "output_type": "execute_result"
    },
    {
     "data": {
      "text/plain": [
       "<trainer> on training set:\t\n",
       "<trainer> online epoch # 28 [batchSize = 10]\t\n"
      ]
     },
     "execution_count": 18,
     "metadata": {},
     "output_type": "execute_result"
    },
    {
     "data": {
      "text/plain": [
       "Progress: 111 / 2000\t\n"
      ]
     },
     "execution_count": 18,
     "metadata": {},
     "output_type": "execute_result"
    },
    {
     "data": {
      "text/plain": [
       "Progress: 631 / 2000\t\n"
      ]
     },
     "execution_count": 18,
     "metadata": {},
     "output_type": "execute_result"
    }
   ],
   "source": [
    "-- and train!\n",
    "--\n",
    "while true do\n",
    "   -- train/test\n",
    "   train(trainData)\n",
    "   test(testData)\n",
    "\n",
    "   -- plot errors\n",
    "   if opt.plot then\n",
    "      trainLogger:style{['% mean class accuracy (train set)'] = '-'}\n",
    "      testLogger:style{['% mean class accuracy (test set)'] = '-'}\n",
    "      trainLogger:plot()\n",
    "      testLogger:plot()\n",
    "   end\n",
    "end\n"
   ]
  }
 ],
 "metadata": {
  "kernelspec": {
   "display_name": "iTorch",
   "language": "lua",
   "name": "itorch"
  },
  "language_info": {
   "name": "lua",
   "version": "20100"
  }
 },
 "nbformat": 4,
 "nbformat_minor": 0
}
